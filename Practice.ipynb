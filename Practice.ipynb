{
 "cells": [
  {
   "cell_type": "code",
   "execution_count": 1,
   "metadata": {},
   "outputs": [],
   "source": [
    "import winsound\n",
    "freq = 800 # Set frequency To 2500 Hertz\n",
    "dur = 1000 # Set duration To 1000 ms == 1 second\n",
    "winsound.Beep(freq,dur)\n"
   ]
  },
  {
   "cell_type": "code",
   "execution_count": 2,
   "metadata": {},
   "outputs": [
    {
     "name": "stdout",
     "output_type": "stream",
     "text": [
      "Enter the size of list: 5\n",
      "5\n"
     ]
    }
   ],
   "source": [
    "n=(input(\"Enter the size of list: \"))\n",
    "print(n)\n",
    "    "
   ]
  },
  {
   "cell_type": "code",
   "execution_count": 3,
   "metadata": {},
   "outputs": [
    {
     "name": "stdout",
     "output_type": "stream",
     "text": [
      "Hi Ram, Please come on my birthday tomorrow. \n",
      "Hi shyam, Please come on my birthday tomorrow. \n",
      "Hi Hari, Please come on my birthday tomorrow. \n",
      "Hi ganesh, Please come on my birthday tomorrow. \n",
      "Hi sujan, Please come on my birthday tomorrow. \n",
      "Hi sujata, Please come on my birthday tomorrow. \n",
      "Hi manish, Please come on my birthday tomorrow. \n",
      "Hi manisha, Please come on my birthday tomorrow. \n",
      "Hi sontosh, Please come on my birthday tomorrow. \n",
      "Hi Nabin, Please come on my birthday tomorrow. \n",
      "Hi Kiran, Please come on my birthday tomorrow. \n",
      "Hi sanjaya, Please come on my birthday tomorrow. \n",
      "Hi Bimal, Please come on my birthday tomorrow. \n",
      "Hi Bibek, Please come on my birthday tomorrow. \n",
      "Wall time: 1.96 ms\n"
     ]
    }
   ],
   "source": [
    "%%time\n",
    "friends=[\"Ram\",\"shyam\",'Hari','ganesh','sujan','sujata','manish','manisha','sontosh','Nabin','Kiran',\"sanjaya\",\"Bimal\",\"Bibek\"]\n",
    "for f in friends:\n",
    "    invitation = \"Hi \"+ f +\", Please come on my birthday tomorrow. \"\n",
    "    print(invitation)"
   ]
  },
  {
   "cell_type": "code",
   "execution_count": 4,
   "metadata": {},
   "outputs": [
    {
     "data": {
      "text/plain": [
       "str"
      ]
     },
     "execution_count": 4,
     "metadata": {},
     "output_type": "execute_result"
    }
   ],
   "source": [
    "type(invitation)"
   ]
  },
  {
   "cell_type": "code",
   "execution_count": 5,
   "metadata": {},
   "outputs": [
    {
     "name": "stdout",
     "output_type": "stream",
     "text": [
      "This is \n",
      "the example of multiline writing\n",
      "in where we can write the things in\n",
      "the multiline.\n"
     ]
    }
   ],
   "source": [
    "message=\"\"\"This is \n",
    "the example of multiline writing\n",
    "in where we can write the things in\n",
    "the multiline.\"\"\"\n",
    "print(message)"
   ]
  },
  {
   "cell_type": "code",
   "execution_count": 6,
   "metadata": {},
   "outputs": [
    {
     "data": {
      "text/plain": [
       "64"
      ]
     },
     "execution_count": 6,
     "metadata": {},
     "output_type": "execute_result"
    }
   ],
   "source": [
    "50+14\n"
   ]
  },
  {
   "cell_type": "code",
   "execution_count": 7,
   "metadata": {},
   "outputs": [
    {
     "data": {
      "text/plain": [
       "1086958"
      ]
     },
     "execution_count": 7,
     "metadata": {},
     "output_type": "execute_result"
    }
   ],
   "source": [
    "50+14*41*45*42+45*45+23"
   ]
  },
  {
   "cell_type": "code",
   "execution_count": 8,
   "metadata": {},
   "outputs": [
    {
     "data": {
      "text/plain": [
       "32"
      ]
     },
     "execution_count": 8,
     "metadata": {},
     "output_type": "execute_result"
    }
   ],
   "source": [
    "2**5"
   ]
  },
  {
   "cell_type": "code",
   "execution_count": 9,
   "metadata": {},
   "outputs": [
    {
     "name": "stdout",
     "output_type": "stream",
     "text": [
      "7.0710678118654755\n",
      "3.141592653589793\n"
     ]
    }
   ],
   "source": [
    "import math\n",
    "print(math.sqrt(50))\n",
    "print(math.pi)\n"
   ]
  },
  {
   "cell_type": "code",
   "execution_count": 10,
   "metadata": {},
   "outputs": [
    {
     "data": {
      "text/plain": [
       "31536000"
      ]
     },
     "execution_count": 10,
     "metadata": {},
     "output_type": "execute_result"
    }
   ],
   "source": [
    "year=365\n",
    "day=24\n",
    "hour=60\n",
    "minute=60\n",
    "sec= year*day*hour*minute\n",
    "sec"
   ]
  },
  {
   "cell_type": "code",
   "execution_count": 11,
   "metadata": {},
   "outputs": [
    {
     "name": "stdout",
     "output_type": "stream",
     "text": [
      "<class 'int'>\n",
      "<class 'float'>\n"
     ]
    }
   ],
   "source": [
    "print(type(6//3))\n",
    "print(type(6/3))\n"
   ]
  },
  {
   "cell_type": "code",
   "execution_count": 12,
   "metadata": {},
   "outputs": [
    {
     "data": {
      "text/plain": [
       "512"
      ]
     },
     "execution_count": 12,
     "metadata": {},
     "output_type": "execute_result"
    }
   ],
   "source": [
    "2**3**2"
   ]
  },
  {
   "cell_type": "code",
   "execution_count": 13,
   "metadata": {},
   "outputs": [
    {
     "data": {
      "text/plain": [
       "64"
      ]
     },
     "execution_count": 13,
     "metadata": {},
     "output_type": "execute_result"
    }
   ],
   "source": [
    "(2**3)**2"
   ]
  },
  {
   "cell_type": "code",
   "execution_count": 14,
   "metadata": {},
   "outputs": [
    {
     "data": {
      "text/plain": [
       "512"
      ]
     },
     "execution_count": 14,
     "metadata": {},
     "output_type": "execute_result"
    }
   ],
   "source": [
    "2**(3**2)"
   ]
  },
  {
   "cell_type": "code",
   "execution_count": 15,
   "metadata": {},
   "outputs": [
    {
     "data": {
      "text/plain": [
       "512"
      ]
     },
     "execution_count": 15,
     "metadata": {},
     "output_type": "execute_result"
    }
   ],
   "source": [
    "2**9"
   ]
  },
  {
   "cell_type": "code",
   "execution_count": 16,
   "metadata": {},
   "outputs": [
    {
     "name": "stdout",
     "output_type": "stream",
     "text": [
      "What is the radius? 6\n",
      "The area of given raduis is 113.09733552923255\n"
     ]
    }
   ],
   "source": [
    "import math\n",
    "input_=float(input(\"What is the radius? \"))\n",
    "print(\"The area of given raduis is\", math.pi*input_**2)"
   ]
  },
  {
   "cell_type": "code",
   "execution_count": 17,
   "metadata": {},
   "outputs": [
    {
     "name": "stdout",
     "output_type": "stream",
     "text": [
      "Enter the second that you want to convert? 458564\n",
      "Hrs 127 Mins 22 Secs 44\n"
     ]
    }
   ],
   "source": [
    "total_sec= int(input(\"Enter the second that you want to convert? \"))\n",
    "hours = total_sec//3600\n",
    "remaining= total_sec%3600\n",
    "minutes = remaining//60\n",
    "second_remaining=remaining%60\n",
    "print(\"Hrs\",hours,\"Mins\",minutes,\"Secs\",second_remaining)"
   ]
  },
  {
   "cell_type": "code",
   "execution_count": 18,
   "metadata": {},
   "outputs": [],
   "source": [
    "import turtle\n",
    "wn = turtle.Screen() # Set up the window and its attributes\n",
    "wn.bgcolor(\"lightgreen\")\n",
    "wn.title(\"Tess & Alex\")\n",
    "\n",
    "\n",
    "tess = turtle.Turtle() # Create tess and set some attributes\n",
    "tess.color(\"hotpink\")\n",
    "tess.pensize(5)\n",
    "\n",
    "alex = turtle.Turtle() # Create alex\n",
    "tess.forward(80) # Make tess draw equilateral triangle\n",
    "tess.left(120)\n",
    "tess.forward(80)\n",
    "tess.left(120)\n",
    "tess.forward(80)\n",
    "tess.left(120) # Complete the triangle\n",
    "\n",
    "tess.right(180) # Turn tess around\n",
    "tess.forward(80) # Move her away from the origin\n",
    "\n",
    "alex.forward(50) # Make alex draw a square\n",
    "alex.left(90)\n",
    "alex.forward(50)\n",
    "alex.left(90)\n",
    "alex.forward(50)\n",
    "alex.left(90)\n",
    "alex.forward(50)\n",
    "alex.left(90)\n",
    "\n",
    "wn.mainloop()"
   ]
  },
  {
   "cell_type": "code",
   "execution_count": 19,
   "metadata": {},
   "outputs": [
    {
     "data": {
      "text/plain": [
       "False"
      ]
     },
     "execution_count": 19,
     "metadata": {},
     "output_type": "execute_result"
    }
   ],
   "source": [
    "eval('4+5==92')"
   ]
  },
  {
   "cell_type": "code",
   "execution_count": 20,
   "metadata": {},
   "outputs": [
    {
     "name": "stdout",
     "output_type": "stream",
     "text": [
      "['False', 'None', 'True', 'and', 'as', 'assert', 'async', 'await', 'break', 'class', 'continue', 'def', 'del', 'elif', 'else', 'except', 'finally', 'for', 'from', 'global', 'if', 'import', 'in', 'is', 'lambda', 'nonlocal', 'not', 'or', 'pass', 'raise', 'return', 'try', 'while', 'with', 'yield']\n"
     ]
    }
   ],
   "source": [
    "import keyword\n",
    "print(keyword.kwlist)"
   ]
  },
  {
   "cell_type": "code",
   "execution_count": 21,
   "metadata": {},
   "outputs": [
    {
     "data": {
      "text/plain": [
       "True"
      ]
     },
     "execution_count": 21,
     "metadata": {},
     "output_type": "execute_result"
    }
   ],
   "source": [
    "issubclass(bool, int) # True\n",
    "isinstance(True, bool) # True\n",
    "isinstance(False, bool) # True\n"
   ]
  },
  {
   "cell_type": "code",
   "execution_count": 22,
   "metadata": {},
   "outputs": [
    {
     "data": {
      "text/plain": [
       "False"
      ]
     },
     "execution_count": 22,
     "metadata": {},
     "output_type": "execute_result"
    }
   ],
   "source": [
    "True * False == 1"
   ]
  },
  {
   "cell_type": "code",
   "execution_count": 23,
   "metadata": {},
   "outputs": [
    {
     "data": {
      "text/plain": [
       "[5, 10, 15]"
      ]
     },
     "execution_count": 23,
     "metadata": {},
     "output_type": "execute_result"
    }
   ],
   "source": [
    "l = []\n",
    "for y in [3, 4, 5]:\n",
    "    temp = []\n",
    "    for x in [1, 2, 3]:\n",
    "        temp.append(x * y)\n",
    "    l.append(temp)\n",
    "temp"
   ]
  },
  {
   "cell_type": "code",
   "execution_count": 24,
   "metadata": {},
   "outputs": [
    {
     "name": "stdout",
     "output_type": "stream",
     "text": [
      "[200, 150, 100, 50, 32, 20, 8, 4, 2, 1]\n",
      "[1, 2, 4, 8, 20, 32, 50, 100, 150, 200]\n"
     ]
    }
   ],
   "source": [
    "import heapq\n",
    "numbers = [1, 4, 2, 100, 20, 50, 32, 200, 150, 8]\n",
    "print(heapq.nlargest(len(numbers), numbers)) \n",
    "print(heapq.nsmallest(len(numbers), numbers)) "
   ]
  },
  {
   "cell_type": "code",
   "execution_count": 25,
   "metadata": {},
   "outputs": [
    {
     "name": "stdout",
     "output_type": "stream",
     "text": [
      "[{'firstname': 'John', 'lastname': 'Roe', 'age': 45}, {'firstname': 'John', 'lastname': 'Doe', 'age': 30}]\n",
      "[{'firstname': 'Janie', 'lastname': 'Doe', 'age': 10}, {'firstname': 'Johnny', 'lastname': 'Doe', 'age': 12}]\n"
     ]
    },
    {
     "data": {
      "text/plain": [
       "\" Output: [{'firstname': 'Janie', 'age': 10, 'lastname': 'Doe'}, {'firstname': 'Johnny', 'age': 12,\\n'lastname': 'Doe'}]\""
      ]
     },
     "execution_count": 25,
     "metadata": {},
     "output_type": "execute_result"
    }
   ],
   "source": [
    "people = [\n",
    "{'firstname': 'John', 'lastname': 'Doe', 'age': 30},\n",
    "{'firstname': 'Jane', 'lastname': 'Doe', 'age': 25},\n",
    "{'firstname': 'Janie', 'lastname': 'Doe', 'age': 10},\n",
    "{'firstname': 'Jane', 'lastname': 'Roe', 'age': 22},\n",
    "{'firstname': 'Johnny', 'lastname': 'Doe', 'age': 12},\n",
    "{'firstname': 'John', 'lastname': 'Roe', 'age': 45}\n",
    "]\n",
    "oldest = heapq.nlargest(2, people, key=lambda s: s['age'])\n",
    "print(oldest)\n",
    "'''Output: [{'firstname': 'John', 'age': 45, 'lastname': 'Roe'}, {'firstname': 'John', 'age': 30,\n",
    "'lastname': 'Doe'}]'''\n",
    "youngest = heapq.nsmallest(2, people, key=lambda s: s['age'])\n",
    "print(youngest)\n",
    "''' Output: [{'firstname': 'Janie', 'age': 10, 'lastname': 'Doe'}, {'firstname': 'Johnny', 'age': 12,\n",
    "'lastname': 'Doe'}]'''"
   ]
  },
  {
   "cell_type": "code",
   "execution_count": 26,
   "metadata": {},
   "outputs": [],
   "source": [
    "#dir(__builtins__)"
   ]
  },
  {
   "cell_type": "code",
   "execution_count": 27,
   "metadata": {},
   "outputs": [],
   "source": [
    "#help(max)"
   ]
  },
  {
   "cell_type": "code",
   "execution_count": 28,
   "metadata": {},
   "outputs": [
    {
     "data": {
      "text/plain": [
       "['__doc__',\n",
       " '__loader__',\n",
       " '__name__',\n",
       " '__package__',\n",
       " '__spec__',\n",
       " 'acos',\n",
       " 'acosh',\n",
       " 'asin',\n",
       " 'asinh',\n",
       " 'atan',\n",
       " 'atan2',\n",
       " 'atanh',\n",
       " 'ceil',\n",
       " 'copysign',\n",
       " 'cos',\n",
       " 'cosh',\n",
       " 'degrees',\n",
       " 'e',\n",
       " 'erf',\n",
       " 'erfc',\n",
       " 'exp',\n",
       " 'expm1',\n",
       " 'fabs',\n",
       " 'factorial',\n",
       " 'floor',\n",
       " 'fmod',\n",
       " 'frexp',\n",
       " 'fsum',\n",
       " 'gamma',\n",
       " 'gcd',\n",
       " 'hypot',\n",
       " 'inf',\n",
       " 'isclose',\n",
       " 'isfinite',\n",
       " 'isinf',\n",
       " 'isnan',\n",
       " 'ldexp',\n",
       " 'lgamma',\n",
       " 'log',\n",
       " 'log10',\n",
       " 'log1p',\n",
       " 'log2',\n",
       " 'modf',\n",
       " 'nan',\n",
       " 'pi',\n",
       " 'pow',\n",
       " 'radians',\n",
       " 'remainder',\n",
       " 'sin',\n",
       " 'sinh',\n",
       " 'sqrt',\n",
       " 'tan',\n",
       " 'tanh',\n",
       " 'tau',\n",
       " 'trunc']"
      ]
     },
     "execution_count": 28,
     "metadata": {},
     "output_type": "execute_result"
    }
   ],
   "source": [
    "import math\n",
    "dir(math)"
   ]
  },
  {
   "cell_type": "code",
   "execution_count": 29,
   "metadata": {},
   "outputs": [
    {
     "data": {
      "text/plain": [
       "1.0"
      ]
     },
     "execution_count": 29,
     "metadata": {},
     "output_type": "execute_result"
    }
   ],
   "source": [
    "import math\n",
    "math.cos(0)"
   ]
  },
  {
   "cell_type": "code",
   "execution_count": 30,
   "metadata": {},
   "outputs": [
    {
     "data": {
      "text/plain": [
       "'you'"
      ]
     },
     "execution_count": 30,
     "metadata": {},
     "output_type": "execute_result"
    }
   ],
   "source": [
    "def harry():\n",
    "    return 'you'\n",
    "harry()"
   ]
  },
  {
   "cell_type": "code",
   "execution_count": 31,
   "metadata": {},
   "outputs": [
    {
     "data": {
      "text/plain": [
       "['__class__',\n",
       " '__delattr__',\n",
       " '__dict__',\n",
       " '__dir__',\n",
       " '__doc__',\n",
       " '__eq__',\n",
       " '__format__',\n",
       " '__ge__',\n",
       " '__getattribute__',\n",
       " '__gt__',\n",
       " '__hash__',\n",
       " '__init__',\n",
       " '__init_subclass__',\n",
       " '__le__',\n",
       " '__lt__',\n",
       " '__module__',\n",
       " '__ne__',\n",
       " '__new__',\n",
       " '__reduce__',\n",
       " '__reduce_ex__',\n",
       " '__repr__',\n",
       " '__setattr__',\n",
       " '__sizeof__',\n",
       " '__str__',\n",
       " '__subclasshook__',\n",
       " '__weakref__']"
      ]
     },
     "execution_count": 31,
     "metadata": {},
     "output_type": "execute_result"
    }
   ],
   "source": [
    "class Me(object):\n",
    "    pass\n",
    "dir(Me)"
   ]
  },
  {
   "cell_type": "code",
   "execution_count": 32,
   "metadata": {},
   "outputs": [
    {
     "data": {
      "text/plain": [
       "'154'"
      ]
     },
     "execution_count": 32,
     "metadata": {},
     "output_type": "execute_result"
    }
   ],
   "source": [
    "str(154)"
   ]
  },
  {
   "cell_type": "code",
   "execution_count": 33,
   "metadata": {},
   "outputs": [
    {
     "data": {
      "text/plain": [
       "5.0"
      ]
     },
     "execution_count": 33,
     "metadata": {},
     "output_type": "execute_result"
    }
   ],
   "source": [
    "float(5)"
   ]
  },
  {
   "cell_type": "code",
   "execution_count": 34,
   "metadata": {},
   "outputs": [],
   "source": [
    "#if __name__ == '__main__' :"
   ]
  },
  {
   "cell_type": "code",
   "execution_count": 35,
   "metadata": {},
   "outputs": [
    {
     "name": "stdout",
     "output_type": "stream",
     "text": [
      "2020-07-19 19:05:15.783118\n",
      "datetime.datetime(2020, 7, 19, 19, 5, 15, 783118)\n"
     ]
    }
   ],
   "source": [
    "import datetime\n",
    "today=datetime.datetime.now()\n",
    "print(str(today))\n",
    "print(repr(today))"
   ]
  },
  {
   "cell_type": "code",
   "execution_count": 36,
   "metadata": {},
   "outputs": [
    {
     "data": {
      "text/plain": [
       "'2020-07-19 19:05:15.867886'"
      ]
     },
     "execution_count": 36,
     "metadata": {},
     "output_type": "execute_result"
    }
   ],
   "source": [
    "str(datetime.datetime.now())"
   ]
  },
  {
   "cell_type": "code",
   "execution_count": 37,
   "metadata": {},
   "outputs": [],
   "source": [
    "#help(math)"
   ]
  },
  {
   "cell_type": "code",
   "execution_count": 38,
   "metadata": {},
   "outputs": [
    {
     "name": "stdout",
     "output_type": "stream",
     "text": [
      "['ram', 'shyam', 'hari', 'gita', 8, 8.7, '8']\n",
      "['ganesh', 'sandhya', 1, 0.5]\n",
      "['shyam']\n",
      "['ganesh', 'sandhya', 1, 0.5, 'ganesh', 'sandhya', 1, 0.5]\n",
      "['ram', 'shyam', 'hari', 'gita', 8, 8.7, '8', 'ganesh', 'sandhya', 1, 0.5]\n"
     ]
    }
   ],
   "source": [
    "list = ['ram','shyam','hari','gita',8,8.7,'8']\n",
    "list1 = ['ganesh','sandhya',1,0.5]\n",
    "print(list)\n",
    "print(list1)\n",
    "print(list[1:2])\n",
    "print(list1*2)\n",
    "print(list+list1)"
   ]
  },
  {
   "cell_type": "code",
   "execution_count": 39,
   "metadata": {},
   "outputs": [
    {
     "name": "stdout",
     "output_type": "stream",
     "text": [
      "{'name': 'Ganesh', 'age': 15, 'Lover': 'Ganesha'}\n"
     ]
    }
   ],
   "source": [
    "dic={'name':'Ganesh','age':15,'Lover':'Ganesha'}\n",
    "print(dic)"
   ]
  },
  {
   "cell_type": "code",
   "execution_count": 40,
   "metadata": {},
   "outputs": [
    {
     "name": "stdout",
     "output_type": "stream",
     "text": [
      "Ganesh\n",
      "dict_values(['Ganesh', 15, 'Ganesha'])\n",
      "dict_keys(['name', 'age', 'Lover'])\n"
     ]
    }
   ],
   "source": [
    "print(dic['name'])\n",
    "print(dic.values())\n",
    "print(dic.keys())"
   ]
  },
  {
   "cell_type": "code",
   "execution_count": 41,
   "metadata": {},
   "outputs": [
    {
     "name": "stdout",
     "output_type": "stream",
     "text": [
      "(1, 'sandhya ')\n",
      "Ganesh \n",
      "1\n",
      "sandhya Ganesh \n",
      "shyam\n"
     ]
    }
   ],
   "source": [
    "tuple=(1,'sandhya ')\n",
    "tuple1=('Ganesh ')\n",
    "print(tuple)\n",
    "print(tuple1)\n",
    "print(tuple[0])\n",
    "print(tuple[1] +tuple1)\n",
    "#tuple[1]='sa' \"item assignment is not allowed in tuple\"\n",
    "tuple='shyam' #\"But You can can the whole tuple\"\n",
    "print(tuple)\n",
    "\n"
   ]
  },
  {
   "cell_type": "code",
   "execution_count": 42,
   "metadata": {},
   "outputs": [
    {
     "name": "stdout",
     "output_type": "stream",
     "text": [
      "false\n"
     ]
    }
   ],
   "source": [
    "if False:\n",
    "    print ('true')\n",
    "else:\n",
    "    print('false')"
   ]
  },
  {
   "cell_type": "code",
   "execution_count": 43,
   "metadata": {},
   "outputs": [
    {
     "name": "stdout",
     "output_type": "stream",
     "text": [
      "True\n"
     ]
    }
   ],
   "source": [
    "def isEven(a):\n",
    "    if a%2 ==0:\n",
    "        return True\n",
    "#this next line should be even with the if\n",
    "    return False\n",
    "print (isEven(8))"
   ]
  },
  {
   "cell_type": "code",
   "execution_count": 44,
   "metadata": {},
   "outputs": [],
   "source": [
    "def func():\n",
    "#This is a function that does nothing at all\n",
    "    return"
   ]
  },
  {
   "cell_type": "code",
   "execution_count": 45,
   "metadata": {},
   "outputs": [
    {
     "name": "stdout",
     "output_type": "stream",
     "text": [
      "Help on function func in module __main__:\n",
      "\n",
      "func()\n",
      "\n"
     ]
    }
   ],
   "source": [
    "help(func)"
   ]
  },
  {
   "cell_type": "code",
   "execution_count": 46,
   "metadata": {},
   "outputs": [
    {
     "name": "stdout",
     "output_type": "stream",
     "text": [
      "Help on function greet in module __main__:\n",
      "\n",
      "greet(name, greeting='Hello')\n",
      "\n"
     ]
    }
   ],
   "source": [
    "def greet(name, greeting=\"Hello\"):\n",
    "#Print a greeting to the user `name`\n",
    "#Optional parameter `greeting` can change what they're greeted with.'''\n",
    "    print(\"{} {}\".format(greeting, name))\n",
    "help(greet)"
   ]
  },
  {
   "cell_type": "code",
   "execution_count": 47,
   "metadata": {},
   "outputs": [
    {
     "data": {
      "text/plain": [
       "' The\\n    quick \\n    brown \\n    fox \\n    jumps\\n    over \\n    a\\n    lazy\\n    dog'"
      ]
     },
     "execution_count": 47,
     "metadata": {},
     "output_type": "execute_result"
    }
   ],
   "source": [
    "\"\"\" The\n",
    "    quick \n",
    "    brown \n",
    "    fox \n",
    "    jumps\n",
    "    over \n",
    "    a\n",
    "    lazy\n",
    "    dog\"\"\""
   ]
  },
  {
   "cell_type": "code",
   "execution_count": 48,
   "metadata": {},
   "outputs": [
    {
     "data": {
      "text/plain": [
       "datetime.datetime(2016, 4, 15, 8, 27, 18, tzinfo=datetime.timezone(datetime.timedelta(days=-1, seconds=68400)))"
      ]
     },
     "execution_count": 48,
     "metadata": {},
     "output_type": "execute_result"
    }
   ],
   "source": [
    "import datetime\n",
    "dt = datetime.datetime.strptime(\"2016-04-15T08:27:18-0500\", \"%Y-%m-%dT%H:%M:%S%z\")\n",
    "dt"
   ]
  },
  {
   "cell_type": "code",
   "execution_count": 49,
   "metadata": {},
   "outputs": [
    {
     "data": {
      "text/plain": [
       "datetime.datetime(2016, 4, 15, 8, 27, 18, tzinfo=tzoffset(None, -18000))"
      ]
     },
     "execution_count": 49,
     "metadata": {},
     "output_type": "execute_result"
    }
   ],
   "source": [
    "import dateutil.parser\n",
    "dt = dateutil.parser.parse(\"2016-04-15T08:27:18-0500\")\n",
    "dt"
   ]
  },
  {
   "cell_type": "code",
   "execution_count": 50,
   "metadata": {},
   "outputs": [
    {
     "name": "stdout",
     "output_type": "stream",
     "text": [
      "2020-07-16 12:00:00+09:00\n",
      "UTC+09:00\n",
      "<built-in method tzname of datetime.datetime object at 0x0000019EFE188F30>\n"
     ]
    }
   ],
   "source": [
    "from datetime import datetime, timedelta, timezone\n",
    "JST = timezone(timedelta(hours=+9))\n",
    "dt = datetime(2020, 7, 16, 12, 0, 0, tzinfo=JST)\n",
    "print(dt)\n",
    "\n",
    "print(dt.tzname())\n",
    "# UTC+09:00\n",
    "dt = datetime(2015, 1, 1, 12, 0, 0, tzinfo=timezone(timedelta(hours=9), 'JST'))\n",
    "print(dt.tzname)\n",
    "# 'JST'"
   ]
  },
  {
   "cell_type": "code",
   "execution_count": 51,
   "metadata": {},
   "outputs": [
    {
     "data": {
      "text/plain": [
       "datetime.datetime(2020, 7, 19, 19, 5, 17, 465016)"
      ]
     },
     "execution_count": 51,
     "metadata": {},
     "output_type": "execute_result"
    }
   ],
   "source": [
    "import datetime\n",
    "now1=datetime.datetime.now()\n",
    "now1"
   ]
  },
  {
   "cell_type": "code",
   "execution_count": 52,
   "metadata": {},
   "outputs": [
    {
     "name": "stdout",
     "output_type": "stream",
     "text": [
      "Today: 2020-07-19\n",
      "Yesterday: 2020-07-18\n",
      "Tomorrow: 2020-07-20\n",
      "Time between tomorrow and yesterday: 2 days, 0:00:00\n"
     ]
    }
   ],
   "source": [
    "import datetime\n",
    "today = datetime.date.today()\n",
    "print('Today:', today)\n",
    "yesterday = today - datetime.timedelta(days=1)\n",
    "print('Yesterday:', yesterday)\n",
    "tomorrow = today + datetime.timedelta(days=1)\n",
    "print('Tomorrow:', tomorrow)\n",
    "print('Time between tomorrow and yesterday:', tomorrow - yesterday)"
   ]
  },
  {
   "cell_type": "code",
   "execution_count": 53,
   "metadata": {},
   "outputs": [
    {
     "data": {
      "text/plain": [
       "datetime.date(2020, 8, 19)"
      ]
     },
     "execution_count": 53,
     "metadata": {},
     "output_type": "execute_result"
    }
   ],
   "source": [
    "import calendar\n",
    "from datetime import date\n",
    "def monthdelta(date, delta):\n",
    "    m, y = (date.month+delta) % 12, date.year + ((date.month)+delta-1) // 12\n",
    "    if not m: m = 12\n",
    "    d = min(date.day, calendar.monthrange(y, m)[1])\n",
    "    return date.replace(day=d,month=m, year=y)\n",
    "next_month = monthdelta(date.today(), 1) #datetime\\\n",
    "next_month"
   ]
  },
  {
   "cell_type": "code",
   "execution_count": 54,
   "metadata": {},
   "outputs": [
    {
     "name": "stdout",
     "output_type": "stream",
     "text": [
      "2020-07-19\n",
      "2020-07-20\n",
      "2020-07-21\n",
      "2020-07-22\n",
      "2020-07-23\n",
      "2020-07-24\n",
      "2020-07-25\n"
     ]
    }
   ],
   "source": [
    "import datetime\n",
    "# The size of each step in days\n",
    "day_delta = datetime.timedelta(days=1)\n",
    "start_date = datetime.date.today()\n",
    "end_date = start_date + 7*day_delta\n",
    "for i in range((end_date - start_date).days):\n",
    "    print(start_date + i*day_delta)"
   ]
  },
  {
   "cell_type": "code",
   "execution_count": 55,
   "metadata": {},
   "outputs": [
    {
     "name": "stdout",
     "output_type": "stream",
     "text": [
      "{3, 4, 5}\n",
      "{3, 4, 5}\n",
      "{1, 2, 3, 4, 5, 6}\n",
      "{1, 2, 3, 4, 5, 6}\n",
      "{1, 4}\n",
      "{1, 4}\n",
      "{1, 4, 5}\n",
      "{1, 4, 5}\n",
      "False\n",
      "False\n",
      "True\n",
      "True\n",
      "True\n",
      "False\n"
     ]
    }
   ],
   "source": [
    "# Intersection\n",
    "print({1, 2, 3, 4, 5}.intersection({3, 4, 5, 6})) \n",
    "print({1, 2, 3, 4, 5} & {3, 4, 5, 6}) \n",
    "# Union\n",
    "print({1, 2, 3, 4, 5}.union({3, 4, 5, 6})) \n",
    "print({1, 2, 3, 4, 5} | {3, 4, 5, 6}) \n",
    "# Difference\n",
    "print({1, 2, 3, 4}.difference({2, 3, 5})) \n",
    "print({1, 2, 3, 4} - {2, 3, 5}) # {1, 4}\n",
    "# Symmetric difference with\n",
    "print({1, 2, 3, 4}.symmetric_difference({2, 3, 5})) \n",
    "print({1, 2, 3, 4} ^ {2, 3, 5}) # {1, 4, 5}\n",
    "# Superset check\n",
    "print({1, 2}.issuperset({1, 2, 3}))\n",
    "print({1, 2} >= {1, 2, 3})\n",
    "# Subset check\n",
    "print({1, 2}.issubset({1, 2, 3}))\n",
    "print({1, 2} <= {1, 2, 3})\n",
    "# Disjoint check\n",
    "print({1, 2}.isdisjoint({3, 4}))\n",
    "print({1, 2}.isdisjoint({1, 4}))"
   ]
  },
  {
   "cell_type": "code",
   "execution_count": 56,
   "metadata": {},
   "outputs": [
    {
     "name": "stdout",
     "output_type": "stream",
     "text": [
      "True\n",
      "False\n",
      "True\n",
      "{1, 2, 3, 4}\n",
      "{1, 2, 4}\n",
      "{1, 2, 4}\n",
      "{1, 4}\n",
      "{1, 2, 3, 4, 7, 8}\n"
     ]
    }
   ],
   "source": [
    "# Existence check\n",
    "print(2 in {1,2,3}) # True\n",
    "print(4 in {1,2,3}) # False\n",
    "print(4 not in {1,2,3}) # True\n",
    "# Add and Remove\n",
    "s = {1,2,3}\n",
    "s.add(4) # s == {1,2,3,4}\n",
    "print(s)\n",
    "s.discard(3) # s == {1,2,4}\n",
    "print(s)\n",
    "s.discard(5) # s == {1,2,4}\n",
    "print(s)\n",
    "s.remove(2) # s == {1,4}\n",
    "print(s)\n",
    "#s.remove(2) \"error\"\n",
    "s = {1, 2}\n",
    "s.update({3, 4,8,7})\n",
    "print(s)"
   ]
  },
  {
   "cell_type": "code",
   "execution_count": 57,
   "metadata": {},
   "outputs": [
    {
     "data": {
      "text/plain": [
       "(2, 1)"
      ]
     },
     "execution_count": 57,
     "metadata": {},
     "output_type": "execute_result"
    }
   ],
   "source": [
    "quotient, remainder = divmod(9, 4)\n",
    "# quotient = 2, remainder = 1 as 4 * 2 + 1 == 9\n",
    "quotient, remainder"
   ]
  },
  {
   "cell_type": "code",
   "execution_count": 58,
   "metadata": {},
   "outputs": [
    {
     "data": {
      "text/plain": [
       "121"
      ]
     },
     "execution_count": 58,
     "metadata": {},
     "output_type": "execute_result"
    }
   ],
   "source": [
    "~122\n",
    "~-122"
   ]
  },
  {
   "cell_type": "code",
   "execution_count": 59,
   "metadata": {},
   "outputs": [
    {
     "data": {
      "text/plain": [
       "'0b11100'"
      ]
     },
     "execution_count": 59,
     "metadata": {},
     "output_type": "execute_result"
    }
   ],
   "source": [
    "bin(60&30)"
   ]
  },
  {
   "cell_type": "code",
   "execution_count": 60,
   "metadata": {},
   "outputs": [
    {
     "name": "stdout",
     "output_type": "stream",
     "text": [
      "Enter the decimal number yo want to change it to binary: 85\n",
      "The binary value of given decimal number is:  1010101\n"
     ]
    }
   ],
   "source": [
    "input_=int(input(\"Enter the decimal number yo want to change it to binary: \"))\n",
    "a=bin(input_)\n",
    "b=str(a[2:10])\n",
    "print(\"The binary value of given decimal number is: \",b)\n"
   ]
  },
  {
   "cell_type": "code",
   "execution_count": 61,
   "metadata": {},
   "outputs": [
    {
     "data": {
      "text/plain": [
       "200.0"
      ]
     },
     "execution_count": 61,
     "metadata": {},
     "output_type": "execute_result"
    }
   ],
   "source": [
    "300/300*200"
   ]
  },
  {
   "cell_type": "code",
   "execution_count": 62,
   "metadata": {},
   "outputs": [
    {
     "data": {
      "text/plain": [
       "200.0"
      ]
     },
     "execution_count": 62,
     "metadata": {},
     "output_type": "execute_result"
    }
   ],
   "source": [
    "300*200/300"
   ]
  },
  {
   "cell_type": "code",
   "execution_count": 63,
   "metadata": {},
   "outputs": [
    {
     "name": "stdout",
     "output_type": "stream",
     "text": [
      "<function <lambda> at 0x0000019EFD87ED38>\n"
     ]
    }
   ],
   "source": [
    "a='fuv'\n",
    "print(lambda:a)\n"
   ]
  },
  {
   "cell_type": "code",
   "execution_count": 64,
   "metadata": {},
   "outputs": [
    {
     "name": "stdout",
     "output_type": "stream",
     "text": [
      "class\n",
      "global\n",
      "global\n",
      "class\n",
      "global\n",
      "class\n",
      "global\n"
     ]
    }
   ],
   "source": [
    "a = 'global'\n",
    "class Fred:\n",
    "    a = 'class' # class scope\n",
    "    b = (a for i in range(10)) # function scope\n",
    "    c = [a for i in range(10)] # function scope\n",
    "    d = a # class scope\n",
    "    e = lambda: a # function scope\n",
    "    f = lambda a=a: a # default argument uses class scope\n",
    "    @staticmethod # or @classmethod, or regular instance method\n",
    "    def g(): # function scope\n",
    "        return a\n",
    "print(Fred.a) # class\n",
    "print(next(Fred.b)) # global\n",
    "print(Fred.c[0]) # class in Python 2, global in Python 3\n",
    "print(Fred.d) # class\n",
    "print(Fred.e()) # global\n",
    "print(Fred.f()) # class\n",
    "print(Fred.g())"
   ]
  },
  {
   "cell_type": "code",
   "execution_count": 65,
   "metadata": {},
   "outputs": [
    {
     "name": "stdout",
     "output_type": "stream",
     "text": [
      "1\n",
      "2\n",
      "3\n",
      "2\n",
      "4\n"
     ]
    },
    {
     "data": {
      "text/plain": [
       "3"
      ]
     },
     "execution_count": 65,
     "metadata": {},
     "output_type": "execute_result"
    }
   ],
   "source": [
    "def break_all():\n",
    "    for j in range(1, 5):\n",
    "        for i in range(1,4):\n",
    "            if i*j == 6:\n",
    "                return(i)\n",
    "            print(i*j)\n",
    "            \n",
    "break_all()"
   ]
  },
  {
   "cell_type": "code",
   "execution_count": 66,
   "metadata": {},
   "outputs": [
    {
     "name": "stdout",
     "output_type": "stream",
     "text": [
      "a\n",
      "b\n",
      "c\n",
      "d\n",
      "e\n",
      "alpha has an index of 0\n",
      "bravo has an index of 1\n",
      "charlie has an index of 2\n",
      "delta has an index of 3\n",
      "echo has an index of 4\n",
      "lst at 2 contains charlie\n",
      "lst at 3 contains delta\n"
     ]
    }
   ],
   "source": [
    "lst = ['alpha', 'bravo', 'charlie', 'delta', 'echo']\n",
    "for s in lst:\n",
    "    print(s[:1])\n",
    "    \n",
    "for idx, s in enumerate(lst):\n",
    "    print(\"%s has an index of %d\" % (s, idx))\n",
    "    \n",
    "for i in range(2,4):\n",
    "    print(\"lst at %d contains %s\" % (i, lst[i]))\n",
    "    "
   ]
  },
  {
   "cell_type": "code",
   "execution_count": 67,
   "metadata": {},
   "outputs": [
    {
     "data": {
      "text/plain": [
       "1j"
      ]
     },
     "execution_count": 67,
     "metadata": {},
     "output_type": "execute_result"
    }
   ],
   "source": [
    "import cmath\n",
    "complex_num = cmath.sqrt(-1)\n",
    "complex_num\n",
    "#while complex_num: \n",
    "    #print(complex_num) \n",
    "    \n",
    "#while True:\n",
    "#    print( \"Infinite loop\")"
   ]
  },
  {
   "cell_type": "code",
   "execution_count": 68,
   "metadata": {},
   "outputs": [
    {
     "name": "stdout",
     "output_type": "stream",
     "text": [
      "1\n",
      "array('i', [12, 11, 10, 9, 8, 7, 6, 5, 3, 2, 1, 0])\n"
     ]
    }
   ],
   "source": [
    "from array import *\n",
    "my_array =array('i',[1,2,3,4,5])\n",
    "my_array.append(6)\n",
    "my_array.insert(0,0)\n",
    "my_extnd_array = array('i', [7,8,9,10])\n",
    "my_array.extend(my_extnd_array)\n",
    "c=[11,12,13]\n",
    "my_array.fromlist(c)\n",
    "my_array.remove(4)\n",
    "my_array.pop()\n",
    "my_array.reverse()\n",
    "my_array.count(3)\n",
    "print(my_array.count(3))\n",
    "print(my_array)\n"
   ]
  },
  {
   "cell_type": "code",
   "execution_count": 69,
   "metadata": {},
   "outputs": [
    {
     "name": "stdout",
     "output_type": "stream",
     "text": [
      "3\n",
      "2\n"
     ]
    },
    {
     "data": {
      "text/plain": [
       "(1782379456336, 5)"
      ]
     },
     "execution_count": 69,
     "metadata": {},
     "output_type": "execute_result"
    }
   ],
   "source": [
    "from array import *\n",
    "my_array1 = array('i', [1,2,3,4,5])\n",
    "print(my_array1.index(4))\n",
    "\n",
    "my_array2 = array('i', [1,2,3,3,5])\n",
    "print(my_array2.index(3))\n",
    "my_array1.buffer_info()"
   ]
  },
  {
   "cell_type": "code",
   "execution_count": 70,
   "metadata": {},
   "outputs": [
    {
     "data": {
      "text/plain": [
       "[1, 2, 3, 4, 5]"
      ]
     },
     "execution_count": 70,
     "metadata": {},
     "output_type": "execute_result"
    }
   ],
   "source": [
    "my_array = array('i', [1,2,3,4,5])\n",
    "c = my_array.tolist()\n",
    "c"
   ]
  },
  {
   "cell_type": "code",
   "execution_count": 71,
   "metadata": {},
   "outputs": [
    {
     "data": {
      "text/plain": [
       "array('f', [1.0, 2.0, 4.0, 5.0, 7.0])"
      ]
     },
     "execution_count": 71,
     "metadata": {},
     "output_type": "execute_result"
    }
   ],
   "source": [
    "list1=[1,2,4,5,7]\n",
    "my_array_ = array('f', list1)\n",
    "my_array_"
   ]
  },
  {
   "cell_type": "code",
   "execution_count": 72,
   "metadata": {},
   "outputs": [
    {
     "name": "stdout",
     "output_type": "stream",
     "text": [
      "[[[111, 112, 113], [121, 122, 123], [131, 132, 133]], [[211, 212, 213], [221, 222, 223], [231, 232, 233]], [[311, 312, 313], [321, 322, 323], [331, 332, 333]]]\n",
      "[[211, 212, 213], [221, 222, 223], [231, 232, 233]]\n",
      "[321, 322, 323]\n",
      "213\n"
     ]
    }
   ],
   "source": [
    "myarray=[[[111,112,113],[121,122,123],[131,132,133]],\\\n",
    "[[211,212,213],[221,222,223],[231,232,233]],\\\n",
    "[[311,312,313],[321,322,323],[331,332,333]]]\n",
    "print(myarray)\n",
    "print(myarray[1])\n",
    "print(myarray[2][1])\n",
    "print(myarray[1][0][2])\n"
   ]
  },
  {
   "cell_type": "code",
   "execution_count": 73,
   "metadata": {},
   "outputs": [
    {
     "data": {
      "text/plain": [
       "{'name': 'Clifford', 'hands': 'paws', 'special': 'gills', 'color': 'red'}"
      ]
     },
     "execution_count": 73,
     "metadata": {},
     "output_type": "execute_result"
    }
   ],
   "source": [
    "fish = {'name': \"Nemo\", 'hands': \"fins\", 'special': \"gills\"}\n",
    "dog =  {'name': \"Clifford\", 'hands': \"paws\", 'color': \"red\"}\n",
    "fishdog = {**fish, **dog}\n",
    "fishdog"
   ]
  },
  {
   "cell_type": "code",
   "execution_count": 74,
   "metadata": {},
   "outputs": [
    {
     "name": "stdout",
     "output_type": "stream",
     "text": [
      "This parrot wouldn't VOOM if you put four million volts through it. E's bleedin' demised !\n"
     ]
    }
   ],
   "source": [
    "def parrot(voltage, state, action):\n",
    "    print(\"This parrot wouldn't\", action, end=' ')\n",
    "    print(\"if you put\", voltage, \"volts through it.\", end=' ')\n",
    "    print(\"E's\", state, \"!\")\n",
    "\n",
    "d = {\"voltage\": \"four million\", \"state\": \"bleedin' demised\", \"action\": \"VOOM\"}\n",
    "parrot(**d)\n",
    "  "
   ]
  },
  {
   "cell_type": "code",
   "execution_count": 75,
   "metadata": {},
   "outputs": [
    {
     "name": "stdout",
     "output_type": "stream",
     "text": [
      "Luxary Red Farari !\n",
      "wheels: 4\n",
      "color: Red\n",
      "model: Farari\n"
     ]
    }
   ],
   "source": [
    "car = {}\n",
    "car[\"wheels\"] = '4' #we can use int 4 also for 1st condition\n",
    "car[\"color\"] = \"Red\"\n",
    "car[\"model\"] = \"Farari\"\n",
    "print( \"Luxary \" + car[\"color\"] + \" \" + car[\"model\"] + \" !\" )\n",
    "for key in car:\n",
    "    print(key + \": \" + car[key])"
   ]
  },
  {
   "cell_type": "code",
   "execution_count": 76,
   "metadata": {},
   "outputs": [
    {
     "name": "stdout",
     "output_type": "stream",
     "text": [
      "[4, 3, 2, 1]\n",
      "[4, 3]\n",
      "[1, 3]\n",
      "[4, 3, 2, 1]\n"
     ]
    },
    {
     "data": {
      "text/plain": [
       "True"
      ]
     },
     "execution_count": 76,
     "metadata": {},
     "output_type": "execute_result"
    }
   ],
   "source": [
    "lst = [1,2,3,4]\n",
    "print(lst[::-1])\n",
    "print(lst[3:1:-1])\n",
    "print(lst[::2])\n",
    "print(lst[::-1])\n",
    "5 in lst\n",
    "4 in lst\n"
   ]
  },
  {
   "cell_type": "code",
   "execution_count": 77,
   "metadata": {},
   "outputs": [
    {
     "data": {
      "text/plain": [
       "False"
      ]
     },
     "execution_count": 77,
     "metadata": {},
     "output_type": "execute_result"
    }
   ],
   "source": [
    "li=[]\n",
    "li\n",
    "0 in li"
   ]
  },
  {
   "cell_type": "code",
   "execution_count": 78,
   "metadata": {},
   "outputs": [
    {
     "data": {
      "text/plain": [
       "<list_reverseiterator at 0x19efbc79588>"
      ]
     },
     "execution_count": 78,
     "metadata": {},
     "output_type": "execute_result"
    }
   ],
   "source": [
    "lis=reversed(lst)\n",
    "lis"
   ]
  },
  {
   "cell_type": "code",
   "execution_count": 79,
   "metadata": {},
   "outputs": [],
   "source": [
    "name=[\"ram\",\"shyam\",\"hari\",\"gita\",\"ram\",\"shyam\"]\n",
    "name1=set(name)\n",
    "\n"
   ]
  },
  {
   "cell_type": "code",
   "execution_count": 80,
   "metadata": {},
   "outputs": [
    {
     "data": {
      "text/plain": [
       "[1, 4, 9, 16, 25]"
      ]
     },
     "execution_count": 80,
     "metadata": {},
     "output_type": "execute_result"
    }
   ],
   "source": [
    "squares = [x * x for x in (1, 2, 3, 4,5)]\n",
    "squares"
   ]
  },
  {
   "cell_type": "code",
   "execution_count": 81,
   "metadata": {},
   "outputs": [
    {
     "name": "stdout",
     "output_type": "stream",
     "text": [
      "['these', 'words', 'mostly', 'have,commas']\n"
     ]
    },
    {
     "data": {
      "text/plain": [
       "['aBefiltuu', 'is', 'beertt', 'ahnt', 'gluy']"
      ]
     },
     "execution_count": 81,
     "metadata": {},
     "output_type": "execute_result"
    }
   ],
   "source": [
    "# Strip off any commas from the end of strings in a list\n",
    "print([w.strip(',') for w in ['these,', 'words,,', 'mostly', 'have,commas,']])\n",
    "# ['these', 'words', 'mostly', 'have,commas']\n",
    "# Organize letters in words more reasonably - in an alphabetical order\n",
    "sentence = \"Beautiful is better than ugly\"\n",
    "[\"\".join(sorted(word, key = lambda x: x.lower())) for word in sentence.split()]\n",
    "# ['aBefiltuu', 'is', 'beertt', 'ahnt', 'gluy']"
   ]
  },
  {
   "cell_type": "code",
   "execution_count": 82,
   "metadata": {},
   "outputs": [
    {
     "data": {
      "text/plain": [
       "['a', '*', '*', '*', 'e']"
      ]
     },
     "execution_count": 82,
     "metadata": {},
     "output_type": "execute_result"
    }
   ],
   "source": [
    "[x if x in 'aeiou' else '*' for x in 'apple']"
   ]
  },
  {
   "cell_type": "code",
   "execution_count": 83,
   "metadata": {},
   "outputs": [
    {
     "data": {
      "text/plain": [
       "[[1, 2], [3, 4], [0, 1]]"
      ]
     },
     "execution_count": 83,
     "metadata": {},
     "output_type": "execute_result"
    }
   ],
   "source": [
    "[sorted(x) for x in [[2, 1], [4, 3], [0, 1]]]"
   ]
  },
  {
   "cell_type": "code",
   "execution_count": 84,
   "metadata": {},
   "outputs": [
    {
     "data": {
      "text/plain": [
       "[None, None, None]"
      ]
     },
     "execution_count": 84,
     "metadata": {},
     "output_type": "execute_result"
    }
   ],
   "source": [
    "[x.sort() for x in [[2, 1], [4, 3], [0, 1]]]"
   ]
  },
  {
   "cell_type": "code",
   "execution_count": 85,
   "metadata": {},
   "outputs": [
    {
     "data": {
      "text/plain": [
       "[0, 2, 4, 6, 8]"
      ]
     },
     "execution_count": 85,
     "metadata": {},
     "output_type": "execute_result"
    }
   ],
   "source": [
    "[x for x in range(10) if x % 2 == 0]"
   ]
  },
  {
   "cell_type": "code",
   "execution_count": 86,
   "metadata": {},
   "outputs": [
    {
     "data": {
      "text/plain": [
       "[0, 1, 4, 9, 16, 25, 36, 49, 64, 81]"
      ]
     },
     "execution_count": 86,
     "metadata": {},
     "output_type": "execute_result"
    }
   ],
   "source": [
    "def f(x):\n",
    "     import time\n",
    "     time.sleep(.1) \n",
    "     return x**2\n",
    "    \n",
    "[f(x) for x in range(10) if f(x) > -1]"
   ]
  },
  {
   "cell_type": "code",
   "execution_count": 87,
   "metadata": {},
   "outputs": [
    {
     "data": {
      "text/plain": [
       "[1, 2, 3, 4, 5, 6, 7, 8, 9]"
      ]
     },
     "execution_count": 87,
     "metadata": {},
     "output_type": "execute_result"
    }
   ],
   "source": [
    "l = [[1, 2, 3], [4, 5, 6], [7], [8, 9]]\n",
    "[item for sublist in l for item in sublist]"
   ]
  },
  {
   "cell_type": "code",
   "execution_count": 88,
   "metadata": {},
   "outputs": [
    {
     "name": "stdout",
     "output_type": "stream",
     "text": [
      "[1, 2, 3, 4, 5, 6]\n",
      "[1, 2, 3, 4, 5, 6]\n"
     ]
    }
   ],
   "source": [
    "data = [[1, 2], [3, 4], [5, 6]]\n",
    "output = [element for each_list in data for element in each_list]\n",
    "print(output)\n",
    "\n",
    "#same both with compresension for uper and not for second.\n",
    "data = [[1, 2], [3, 4], [5, 6]]\n",
    "output = []\n",
    "for each_list in data:\n",
    "    for element in each_list:\n",
    "        output.append(element)\n",
    "print(output)"
   ]
  },
  {
   "cell_type": "code",
   "execution_count": 89,
   "metadata": {},
   "outputs": [
    {
     "data": {
      "text/plain": [
       "[0, 1, 4, 9, 16, 25, 36, 49, 64, 81]"
      ]
     },
     "execution_count": 89,
     "metadata": {},
     "output_type": "execute_result"
    }
   ],
   "source": [
    "# list comprehension\n",
    "[x**2 for x in range(10)]"
   ]
  },
  {
   "cell_type": "code",
   "execution_count": 90,
   "metadata": {},
   "outputs": [
    {
     "name": "stdout",
     "output_type": "stream",
     "text": [
      "[1, 2, 3, 4]\n"
     ]
    }
   ],
   "source": [
    "# Convert a list of strings to integers.\n",
    "items = [\"1\",\"2\",\"3\",\"4\"]\n",
    "print([int(item) for item in items])"
   ]
  },
  {
   "cell_type": "code",
   "execution_count": 91,
   "metadata": {},
   "outputs": [
    {
     "data": {
      "text/plain": [
       "[[1, 4, 7], [2, 5, 8], [3, 6, 9]]"
      ]
     },
     "execution_count": 91,
     "metadata": {},
     "output_type": "execute_result"
    }
   ],
   "source": [
    "matrix = [[1,2,3],\n",
    "         [4,5,6 ],\n",
    "         [7,8,9]]\n",
    "[[row[i] for row in matrix] for i in range(len(matrix))]"
   ]
  },
  {
   "cell_type": "code",
   "execution_count": 92,
   "metadata": {},
   "outputs": [
    {
     "name": "stdout",
     "output_type": "stream",
     "text": [
      "[(1, 'a'), (2, 'b'), (3, 'c'), (4, 'd')]\n",
      "[(1, 'a', '6'), (2, 'b', '7'), (3, 'c', '8'), (4, 'd', '9')]\n",
      "[(1, 'a', '6', 'S'), (2, 'b', '7', 'M'), (3, 'c', '8', 'G'), (4, 'd', '9', 'D')]\n",
      "[(1, 'a', '6', 'S', 1.5), (2, 'b', '7', 'M', 2.8), (3, 'c', '8', 'G', 3j), (4, 'd', '9', 'D', 4j)]\n"
     ]
    }
   ],
   "source": [
    "list_1 = [1, 2, 3 , 4]\n",
    "list_2 = ['a', 'b', 'c', 'd']\n",
    "list_3 = ['6', '7', '8', '9']\n",
    "list_4 = ['S','M','G','D']\n",
    "list_5 = [1.5, 2.8, 3j , 4j]\n",
    "# Two lists\n",
    "print([(i, j) for i, j in zip(list_1, list_2)])\n",
    "\n",
    "# Three lists\n",
    "print([(i, j, k) for i, j, k in zip(list_1, list_2, list_3)])\n",
    "\n",
    "print([(i, j, k,l) for i, j, k, l in zip(list_1, list_2, list_3,list_4)])\n",
    "\n",
    "print([(i, j, k,l,m) for i, j, k, l, m in zip(list_1, list_2, list_3,list_4,list_5)])"
   ]
  },
  {
   "cell_type": "code",
   "execution_count": 93,
   "metadata": {},
   "outputs": [
    {
     "name": "stdout",
     "output_type": "stream",
     "text": [
      "['a', 'c', 'e', 'g']\n",
      "['a', 'd', 'g']\n",
      "['a', 'e']\n",
      "['a']\n"
     ]
    }
   ],
   "source": [
    "lst = ['a', 'b', 'c', 'd', 'e', 'f', 'g', 'h']\n",
    "print(lst[::2])\n",
    "# two steps slice\n",
    "print(lst[::3])\n",
    "# three steps slice\n",
    "print(lst[::4])\n",
    "print(lst[::8])\n"
   ]
  },
  {
   "cell_type": "code",
   "execution_count": 94,
   "metadata": {},
   "outputs": [
    {
     "name": "stdout",
     "output_type": "stream",
     "text": [
      "['h', 'g', 'f', 'e', 'd', 'c', 'b', 'a']\n",
      "['a', 'b', 'c', 'd', 'e', 'f', 'g', 'h']\n"
     ]
    }
   ],
   "source": [
    "a = ['a', 'b', 'c', 'd', 'e', 'f', 'g', 'h']\n",
    "a.reverse()\n",
    "print(a)\n",
    "b = a[::-1]\n",
    "print(b)"
   ]
  },
  {
   "cell_type": "code",
   "execution_count": 95,
   "metadata": {},
   "outputs": [],
   "source": [
    "class Node:\n",
    "    def __init__(self, cargo=None, next=None):\n",
    "        self.car = cargo\n",
    "        self.cdr = next\n",
    "    def __str__(self):\n",
    "        return str(self.car)\n",
    "    def display(lst):\n",
    "        if lst:\n",
    "            w(\"%s \" % lst)\n",
    "            display(lst.cdr)\n",
    "        else:\n",
    "            w(\"nil\\n\")\n",
    "            "
   ]
  },
  {
   "cell_type": "code",
   "execution_count": 96,
   "metadata": {},
   "outputs": [
    {
     "data": {
      "text/plain": [
       "('Porsche', 5000)"
      ]
     },
     "execution_count": 96,
     "metadata": {},
     "output_type": "execute_result"
    }
   ],
   "source": [
    "car_shop = [('Toyota', 1000), ('rectangular tire', 80), ('Porsche', 5000)]\n",
    "generator = (car for car in car_shop if not car[1] < 4000)\n",
    "next(generator)"
   ]
  },
  {
   "cell_type": "code",
   "execution_count": 97,
   "metadata": {},
   "outputs": [
    {
     "name": "stdout",
     "output_type": "stream",
     "text": [
      "['Ram\\n', 'Shyam \\n', 'Hari \\n', 'Gita\\n']\n",
      "['Ram', 'Shyam ', 'Hari ', 'Gita', '']\n"
     ]
    }
   ],
   "source": [
    "#with open('shoppinglist.txt', 'w') as fileobj:\n",
    "    #fileobj.write('tomato\\npasta\\ngarlic')\n",
    "    \n",
    "with open('shoppinglist.txt', 'r') as fileobj:\n",
    "    lines = fileobj.readlines()\n",
    "print(lines)\n",
    "\n",
    "with open('shoppinglist.txt', 'r') as fileobj:\n",
    "    content = fileobj.read()\n",
    "    read = content.split('\\n')\n",
    "print(read)\n"
   ]
  },
  {
   "cell_type": "code",
   "execution_count": 98,
   "metadata": {},
   "outputs": [
    {
     "name": "stdout",
     "output_type": "stream",
     "text": [
      "Ram\n",
      "Shyam \n",
      "Hari \n",
      "Gita\n",
      "\n"
     ]
    }
   ],
   "source": [
    "with open('shoppinglist.txt') as in_file:\n",
    "    content = in_file.read()\n",
    "print(content)"
   ]
  },
  {
   "cell_type": "code",
   "execution_count": 99,
   "metadata": {},
   "outputs": [
    {
     "data": {
      "text/plain": [
       "[' bAR', 'BaZ ', ' foo ']"
      ]
     },
     "execution_count": 99,
     "metadata": {},
     "output_type": "execute_result"
    }
   ],
   "source": [
    "sorted( [\" foo \", \" bAR\", \"BaZ \"], key=lambda s: s.strip().upper())"
   ]
  },
  {
   "cell_type": "code",
   "execution_count": 100,
   "metadata": {},
   "outputs": [
    {
     "data": {
      "text/plain": [
       "'xssσ'"
      ]
     },
     "execution_count": 100,
     "metadata": {},
     "output_type": "execute_result"
    }
   ],
   "source": [
    "\"XßΣ\".casefold()"
   ]
  },
  {
   "cell_type": "code",
   "execution_count": 101,
   "metadata": {},
   "outputs": [
    {
     "data": {
      "text/plain": [
       "'xßς'"
      ]
     },
     "execution_count": 101,
     "metadata": {},
     "output_type": "execute_result"
    }
   ],
   "source": [
    "\"XßΣ\".lower()"
   ]
  },
  {
   "cell_type": "code",
   "execution_count": 102,
   "metadata": {},
   "outputs": [
    {
     "data": {
      "text/plain": [
       "'once upon a time in Mumbai'"
      ]
     },
     "execution_count": 102,
     "metadata": {},
     "output_type": "execute_result"
    }
   ],
   "source": [
    "\" \".join([\"once\",\"upon\",\"a\",\"time\",\"in\",\"Mumbai\"])"
   ]
  },
  {
   "cell_type": "code",
   "execution_count": 103,
   "metadata": {},
   "outputs": [
    {
     "data": {
      "text/plain": [
       "'ss'"
      ]
     },
     "execution_count": 103,
     "metadata": {},
     "output_type": "execute_result"
    }
   ],
   "source": [
    "\"ß\".upper().lower()"
   ]
  },
  {
   "cell_type": "code",
   "execution_count": 104,
   "metadata": {},
   "outputs": [
    {
     "data": {
      "text/plain": [
       "Counter({'H': 1,\n",
       "         'a': 2,\n",
       "         'p': 2,\n",
       "         'y': 2,\n",
       "         ' ': 1,\n",
       "         'B': 1,\n",
       "         'i': 1,\n",
       "         'r': 1,\n",
       "         't': 1,\n",
       "         'h': 1,\n",
       "         'd': 1})"
      ]
     },
     "execution_count": 104,
     "metadata": {},
     "output_type": "execute_result"
    }
   ],
   "source": [
    "import collections\n",
    "counts = collections.Counter([1,2,3])\n",
    "collections.Counter('Happy Birthday')"
   ]
  },
  {
   "cell_type": "code",
   "execution_count": 105,
   "metadata": {},
   "outputs": [
    {
     "name": "stdout",
     "output_type": "stream",
     "text": [
      "+DK6P>?'C:\n"
     ]
    }
   ],
   "source": [
    "import random\n",
    "from string import punctuation, ascii_letters, digits\n",
    "symbols = ascii_letters + digits + punctuation\n",
    "secure_random = random.SystemRandom()\n",
    "password = \"\".join(secure_random.choice(symbols) for i in range(10))\n",
    "print(password)"
   ]
  },
  {
   "cell_type": "code",
   "execution_count": 106,
   "metadata": {},
   "outputs": [
    {
     "name": "stdout",
     "output_type": "stream",
     "text": [
      "2\n"
     ]
    }
   ],
   "source": [
    "laughs=[1,2]\n",
    "print(random.choice(laughs))"
   ]
  },
  {
   "cell_type": "code",
   "execution_count": 107,
   "metadata": {},
   "outputs": [
    {
     "name": "stdout",
     "output_type": "stream",
     "text": [
      "['Ho', 'He', 'Hi']\n"
     ]
    }
   ],
   "source": [
    "laughs = [\"Hi\", \"Ho\", \"He\"]\n",
    "random.shuffle(laughs) # Shuffles in-place! Don't do: laughs = random.shuffle(laughs)\n",
    "print(laughs)"
   ]
  },
  {
   "cell_type": "code",
   "execution_count": 108,
   "metadata": {},
   "outputs": [
    {
     "data": {
      "text/plain": [
       "610"
      ]
     },
     "execution_count": 108,
     "metadata": {},
     "output_type": "execute_result"
    }
   ],
   "source": [
    "\n",
    "def fibonacci(n):\n",
    "    if n < 2:\n",
    "        return n\n",
    "    return fibonacci(n-1) + fibonacci(n-2)\n",
    "fibonacci(15)"
   ]
  },
  {
   "cell_type": "code",
   "execution_count": 109,
   "metadata": {},
   "outputs": [
    {
     "name": "stdout",
     "output_type": "stream",
     "text": [
      "b'Hello World!'\n"
     ]
    }
   ],
   "source": [
    "import base64\n",
    "s = \"Hello World!\"\n",
    "b = s.encode(\"UTF-8\")\n",
    "print(b)"
   ]
  },
  {
   "cell_type": "code",
   "execution_count": 110,
   "metadata": {},
   "outputs": [
    {
     "name": "stdout",
     "output_type": "stream",
     "text": [
      "b'SGVsbG8gV29ybGQh'\n"
     ]
    }
   ],
   "source": [
    "import base64\n",
    "s = \"Hello World!\"\n",
    "b = s.encode(\"UTF-8\")\n",
    "e = base64.b64encode(b)\n",
    "print(e)"
   ]
  },
  {
   "cell_type": "code",
   "execution_count": 111,
   "metadata": {},
   "outputs": [
    {
     "name": "stdout",
     "output_type": "stream",
     "text": [
      "YidTR1ZzYkc4Z1YyOXliR1Fo\n"
     ]
    }
   ],
   "source": [
    "import base64\n",
    "s = \"b'SGVsbG8gV29ybGQh\"\n",
    "b = s.encode(\"UTF-8\")\n",
    "e = base64.b64encode(b)\n",
    "s1 = e.decode(\"UTF-8\")\n",
    "print(s1)"
   ]
  },
  {
   "cell_type": "code",
   "execution_count": 112,
   "metadata": {},
   "outputs": [
    {
     "name": "stdout",
     "output_type": "stream",
     "text": [
      "Base64 Encoded: SGVsbG8gV29ybGQh\n",
      "Decoded:  Hello World!\n"
     ]
    }
   ],
   "source": [
    "import base64\n",
    "# Creating a string\n",
    "s = \"Hello World!\"\n",
    "# Encoding the string into bytes\n",
    "b = s.encode(\"UTF-8\")\n",
    "# Base64 Encode the bytes\n",
    "e = base64.b64encode(b)\n",
    "# Decoding the Base64 bytes to string\n",
    "s1 = e.decode(\"UTF-8\")\n",
    "# Printing Base64 encoded string\n",
    "print(\"Base64 Encoded:\", s1)\n",
    "# Encoding the Base64 encoded string into bytes\n",
    "b1 = s1.encode(\"UTF-8\")\n",
    "# Decoding the Base64 bytes\n",
    "d = base64.b64decode(b1)\n",
    "# Decoding the bytes to string\n",
    "s2 = d.decode(\"UTF-8\")\n",
    "print(\"Decoded: \",s2)"
   ]
  },
  {
   "cell_type": "code",
   "execution_count": 113,
   "metadata": {},
   "outputs": [
    {
     "name": "stdout",
     "output_type": "stream",
     "text": [
      "Base32 Encoded: JBSWY3DPEBLW64TMMQQQ====\n",
      "Decoded:  Hello World!\n"
     ]
    }
   ],
   "source": [
    "import base64\n",
    "# Creating a string\n",
    "s = \"Hello World!\"\n",
    "# Encoding the string into bytes\n",
    "b = s.encode(\"UTF-8\")\n",
    "# Base32 Encode the bytes\n",
    "e = base64.b32encode(b)\n",
    "# Decoding the Base32 bytes to string\n",
    "s1 = e.decode(\"UTF-8\")\n",
    "# Printing Base32 encoded string\n",
    "print(\"Base32 Encoded:\", s1)\n",
    "# Encoding the Base32 encoded string into bytes\n",
    "b1 = s1.encode(\"UTF-8\")\n",
    "# Decoding the Base32 bytes\n",
    "d = base64.b32decode(b1)\n",
    "# Decoding the bytes to string\n",
    "s2 = d.decode(\"UTF-8\")\n",
    "print(\"Decoded: \",s2)"
   ]
  },
  {
   "cell_type": "code",
   "execution_count": 114,
   "metadata": {},
   "outputs": [
    {
     "name": "stdout",
     "output_type": "stream",
     "text": [
      "Base16 Encoded: 48656C6C6F20576F726C6421\n",
      "Decoded:  Hello World!\n"
     ]
    }
   ],
   "source": [
    "import base64\n",
    "# Creating a string\n",
    "s = \"Hello World!\"\n",
    "# Encoding the string into bytes\n",
    "b = s.encode(\"UTF-8\")\n",
    "# Base16 Encode the bytes\n",
    "e = base64.b16encode(b)\n",
    "# Decoding the Base16 bytes to string\n",
    "s1 = e.decode(\"UTF-8\")\n",
    "# Printing Base16 encoded string\n",
    "print(\"Base16 Encoded:\", s1)\n",
    "# Encoding the Base16 encoded string into bytes\n",
    "b1 = s1.encode(\"UTF-8\")\n",
    "# Decoding the Base16 bytes\n",
    "d = base64.b16decode(b1)\n",
    "# Decoding the bytes to string\n",
    "s2 = d.decode(\"UTF-8\")\n",
    "print(\"Decoded: \",s2)"
   ]
  },
  {
   "cell_type": "code",
   "execution_count": 115,
   "metadata": {},
   "outputs": [
    {
     "name": "stdout",
     "output_type": "stream",
     "text": [
      "ASCII85 Encoded: 87cURD]i,\"Ebo80\n",
      "Decoded:  Hello World!\n"
     ]
    }
   ],
   "source": [
    "import base64\n",
    "# Creating a string\n",
    "s = \"Hello World!\"\n",
    "# Encoding the string into bytes\n",
    "b = s.encode(\"UTF-8\")\n",
    "# ASCII85 Encode the bytes\n",
    "e = base64.a85encode(b)\n",
    "# Decoding the ASCII85 bytes to string\n",
    "s1 = e.decode(\"UTF-8\")\n",
    "# Printing ASCII85 encoded string\n",
    "print(\"ASCII85 Encoded:\", s1)\n",
    "# Encoding the ASCII85 encoded string into bytes\n",
    "b1 = s1.encode(\"UTF-8\")\n",
    "# Decoding the ASCII85 bytes\n",
    "d = base64.a85decode(b1)\n",
    "# Decoding the bytes to string\n",
    "s2 = d.decode(\"UTF-8\")\n",
    "print(\"Decoded: \",s2)"
   ]
  },
  {
   "cell_type": "code",
   "execution_count": 116,
   "metadata": {},
   "outputs": [
    {
     "name": "stdout",
     "output_type": "stream",
     "text": [
      "Base85 Encoded: NM&qnZy;B1a%^NF\n",
      "Decoded:  Hello World!\n"
     ]
    }
   ],
   "source": [
    "import base64\n",
    "# Creating a string\n",
    "s = \"Hello World!\"\n",
    "# Encoding the string into bytes\n",
    "b = s.encode(\"UTF-8\")\n",
    "# Base85 Encode the bytes\n",
    "e = base64.b85encode(b)\n",
    "# Decoding the Base85 bytes to string\n",
    "s1 = e.decode(\"UTF-8\")\n",
    "# Printing Base85 encoded string\n",
    "print(\"Base85 Encoded:\", s1)\n",
    "# Encoding the Base85 encoded string into bytes\n",
    "b1 = s1.encode(\"UTF-8\")\n",
    "# Decoding the Base85 bytes\n",
    "d = base64.b85decode(b1)\n",
    "# Decoding the bytes to string\n",
    "s2 = d.decode(\"UTF-8\")\n",
    "print(\"Decoded: \",s2)"
   ]
  },
  {
   "cell_type": "code",
   "execution_count": 117,
   "metadata": {},
   "outputs": [
    {
     "data": {
      "text/plain": [
       "True"
      ]
     },
     "execution_count": 117,
     "metadata": {},
     "output_type": "execute_result"
    }
   ],
   "source": [
    "import webbrowser\n",
    "webbrowser.open(\"\")"
   ]
  },
  {
   "cell_type": "code",
   "execution_count": 118,
   "metadata": {},
   "outputs": [
    {
     "data": {
      "image/png": "[encoded data removed]",
      "text/plain": [
       "<Figure size 432x288 with 2 Axes>"
      ]
     },
     "metadata": {
      "needs_background": "light"
     },
     "output_type": "display_data"
    }
   ],
   "source": [
    "import numpy as np\n",
    "import matplotlib.pyplot as plt\n",
    "x = np.linspace(0, 2.0*np.pi, 101)\n",
    "y = np.sin(x)\n",
    "z = np.sinh(x)\n",
    "# separate the figure object and axes object\n",
    "# from the plotting object\n",
    "fig, ax1 = plt.subplots()\n",
    "# Duplicate the axes with a different y axis\n",
    "# and the same x axis\n",
    "ax2 = ax1.twinx() # ax2 and ax1 will have common x axis and different y axis\n",
    "# plot the curves on axes 1, and 2, and get the curve handles\n",
    "curve1, = ax1.plot(x, y, label=\"sin\", color='r')\n",
    "curve2, = ax2.plot(x, z, label=\"sinh\", color='b')\n",
    "# Make a curves list to access the parameters in the curves\n",
    "curves = [curve1, curve2]\n",
    "# add legend via axes 1 or axes 2 object.\n",
    "# one command is usually sufficient\n",
    "# ax1.legend() # will not display the legend of ax2\n",
    "# ax2.legend() # will not display the legend of ax1\n",
    "ax1.legend(curves, [curve.get_label() for curve in curves])\n",
    "# ax2.legend(curves, [curve.get_label() for curve in curves]) # also valid\n",
    "# Global figure properties\n",
    "plt.title(\"Plot of sine and hyperbolic sine\")\n",
    "plt.show()"
   ]
  },
  {
   "cell_type": "code",
   "execution_count": 119,
   "metadata": {},
   "outputs": [
    {
     "name": "stdout",
     "output_type": "stream",
     "text": [
      "0, 1, 1, 2, 3, 5, 8, 13, 21, 34\n"
     ]
    }
   ],
   "source": [
    "def fib(a=0, b=1):\n",
    "    \"\"\"Generator that yields Fibonacci numbers. `a` and `b` are the seed values\"\"\"\n",
    "    while True:\n",
    "        yield a\n",
    "        a, b = b, a + b\n",
    "f = fib()\n",
    "print(', '.join(str(next(f)) for _ in range(10)))"
   ]
  },
  {
   "cell_type": "code",
   "execution_count": 120,
   "metadata": {},
   "outputs": [
    {
     "data": {
      "text/plain": [
       "Counter({5: 3, 3: 1, 2: 2})"
      ]
     },
     "execution_count": 120,
     "metadata": {},
     "output_type": "execute_result"
    }
   ],
   "source": [
    "from collections import Counter\n",
    "adict = {'a': 5, 'b': 3, 'c': 5, 'd': 2, 'e':2, 'q': 5}\n",
    "Counter(adict.values())"
   ]
  },
  {
   "cell_type": "code",
   "execution_count": 121,
   "metadata": {},
   "outputs": [
    {
     "name": "stdout",
     "output_type": "stream",
     "text": [
      "apples, bananas, cherries\n"
     ]
    }
   ],
   "source": [
    "print('apples','bananas', 'cherries', sep=', ')"
   ]
  },
  {
   "cell_type": "code",
   "execution_count": 122,
   "metadata": {},
   "outputs": [
    {
     "name": "stdout",
     "output_type": "stream",
     "text": [
      "Got a divide by zero! The exception was: division by zero\n",
      "0 The END\n"
     ]
    }
   ],
   "source": [
    "try:\n",
    "    x = 5 / 0\n",
    "except ZeroDivisionError as e:\n",
    "# `e` is the exception object\n",
    "    print(\"Got a divide by zero! The exception was:\", e)\n",
    "# handle exceptional case\n",
    "    x = 0\n",
    "finally:\n",
    "    print( x,\"The END\")"
   ]
  },
  {
   "cell_type": "code",
   "execution_count": 123,
   "metadata": {},
   "outputs": [
    {
     "name": "stdout",
     "output_type": "stream",
     "text": [
      "Enter a positive integer: -45\n",
      "You entered a negative number!\n"
     ]
    }
   ],
   "source": [
    "class NegativeError(ValueError):\n",
    "    pass\n",
    "def foo(x):\n",
    "# function that only accepts positive values of x\n",
    "    if x < 0:\n",
    "        raise NegativeError(\"Cannot process negative numbers\")\n",
    " # rest of function body\n",
    "try:\n",
    "    result = foo(int(input(\"Enter a positive integer: \"))) # raw_input in Python 2.x\n",
    "except NegativeError:\n",
    "    print(\"You entered a negative number!\")\n",
    "else:\n",
    "    print(\"The result was \" + str(result))"
   ]
  },
  {
   "cell_type": "code",
   "execution_count": 124,
   "metadata": {},
   "outputs": [
    {
     "name": "stdout",
     "output_type": "stream",
     "text": [
      "Enter a number: d\n",
      "This is not a number, try again.\n",
      "Enter a number: 45\n"
     ]
    },
    {
     "data": {
      "text/plain": [
       "45"
      ]
     },
     "execution_count": 124,
     "metadata": {},
     "output_type": "execute_result"
    }
   ],
   "source": [
    "while True:\n",
    "    try:\n",
    "        nb = int(input('Enter a number: '))\n",
    "        break\n",
    "    except ValueError:\n",
    "        print('This is not a number, try again.')\n",
    "nb"
   ]
  },
  {
   "cell_type": "code",
   "execution_count": 125,
   "metadata": {},
   "outputs": [
    {
     "ename": "CustomError",
     "evalue": "This is custom error.",
     "output_type": "error",
     "traceback": [
      "\u001b[1;31m---------------------------------------------------------------------------\u001b[0m",
      "\u001b[1;31mCustomError\u001b[0m                               Traceback (most recent call last)",
      "\u001b[1;32m<ipython-input-125-8aa731104251>\u001b[0m in \u001b[0;36m<module>\u001b[1;34m\u001b[0m\n\u001b[0;32m      3\u001b[0m \u001b[0mx\u001b[0m\u001b[1;33m=\u001b[0m\u001b[1;36m1\u001b[0m\u001b[1;33m\u001b[0m\u001b[1;33m\u001b[0m\u001b[0m\n\u001b[0;32m      4\u001b[0m \u001b[1;32mif\u001b[0m \u001b[0mx\u001b[0m \u001b[1;33m==\u001b[0m \u001b[1;36m1\u001b[0m\u001b[1;33m:\u001b[0m\u001b[1;33m\u001b[0m\u001b[1;33m\u001b[0m\u001b[0m\n\u001b[1;32m----> 5\u001b[1;33m     \u001b[1;32mraise\u001b[0m \u001b[0mCustomError\u001b[0m\u001b[1;33m(\u001b[0m\u001b[1;34m'This is custom error.'\u001b[0m\u001b[1;33m)\u001b[0m\u001b[1;33m\u001b[0m\u001b[1;33m\u001b[0m\u001b[0m\n\u001b[0m\u001b[0;32m      6\u001b[0m \u001b[1;33m\u001b[0m\u001b[0m\n",
      "\u001b[1;31mCustomError\u001b[0m: This is custom error."
     ]
    }
   ],
   "source": [
    "class CustomError(Exception):\n",
    "    pass\n",
    "x=1\n",
    "if x == 1:\n",
    "    raise CustomError('This is custom error.')\n",
    "    "
   ]
  },
  {
   "cell_type": "code",
   "execution_count": 126,
   "metadata": {},
   "outputs": [
    {
     "name": "stdout",
     "output_type": "stream",
     "text": [
      "Catched CustomError :Can you catch me ?\n"
     ]
    }
   ],
   "source": [
    "class CustomError(Exception):\n",
    "    pass\n",
    "try:\n",
    "    raise CustomError('Can you catch me ?')\n",
    "except CustomError as e:\n",
    "    print ('Catched CustomError :{}'.format(e))\n",
    "except Exception as e:\n",
    "    print ('Generic exception: {}'.format(e))"
   ]
  },
  {
   "cell_type": "code",
   "execution_count": 127,
   "metadata": {},
   "outputs": [
    {
     "name": "stdout",
     "output_type": "stream",
     "text": [
      "Apple\n",
      "Ball\n",
      "Cat\n",
      "Dog\n",
      "Elephant\n"
     ]
    }
   ],
   "source": [
    "from bs4 import BeautifulSoup\n",
    "data = \"\"\"\n",
    "<ul>\n",
    "    <li class=\"item\">Apple</li>\n",
    "    <li class=\"item\">Ball</li>\n",
    "    <li class=\"item\">Cat</li>\n",
    "    <li class=\"item\">Dog</li>\n",
    "    <li class=\"item\">Elephant</li>\n",
    "</ul>\n",
    "\"\"\"\n",
    "soup = BeautifulSoup(data, \"html.parser\")\n",
    "for item in soup.select(\"li.item\"):\n",
    "    print(item.get_text())"
   ]
  },
  {
   "cell_type": "code",
   "execution_count": 128,
   "metadata": {},
   "outputs": [
    {
     "name": "stdout",
     "output_type": "stream",
     "text": [
      "John Snow\n"
     ]
    }
   ],
   "source": [
    "from bs4 import BeautifulSoup\n",
    "data = \"\"\"\n",
    "<div>\n",
    "    <label>Name:</label>\n",
    "    John Snow\n",
    "</div>\n",
    "\"\"\"\n",
    "soup = BeautifulSoup(data, \"html.parser\")\n",
    "label = soup.find(\"label\", text=\"Name:\")\n",
    "print(label.next_sibling.strip())"
   ]
  },
  {
   "cell_type": "code",
   "execution_count": 129,
   "metadata": {},
   "outputs": [
    {
     "name": "stdout",
     "output_type": "stream",
     "text": [
      "quaaack!\n",
      "The duck has white and grey features.\n",
      "The person imitates the duck.\n",
      "the person take the features of duck from ground and use it to clean the ear.\n"
     ]
    }
   ],
   "source": [
    "class Duck:\n",
    "    def quack(self):\n",
    "        print(\"quaaack!\")\n",
    "    def feathers(self):\n",
    "        print(\"The duck has white and grey features.\")\n",
    "    \n",
    "class person:\n",
    "    def quack(self):\n",
    "        print(\"The person imitates the duck.\")\n",
    "        \n",
    "    def feathers(self):\n",
    "        print(\"the person take the features of duck from ground and use it to clean the ear.\")\n",
    "        \n",
    "    def name(self):\n",
    "        print(\"Arya Stark\")\n",
    "def in_the_forest(obj):\n",
    "    obj.quack()\n",
    "    obj.feathers()\n",
    "\n",
    "donald = Duck()\n",
    "Arya = person()\n",
    "in_the_forest(donald)\n",
    "in_the_forest(Arya)"
   ]
  },
  {
   "cell_type": "code",
   "execution_count": 130,
   "metadata": {},
   "outputs": [
    {
     "name": "stdout",
     "output_type": "stream",
     "text": [
      "Hello!\n",
      "Parent\n",
      "Hello!\n",
      "Child\n"
     ]
    }
   ],
   "source": [
    "class Parent(object):\n",
    "    def introduce(self):\n",
    "        print(\"Hello!\")\n",
    "    def print_name(self):\n",
    "        print(\"Parent\")\n",
    "class Child(Parent):\n",
    "    def print_name(self):\n",
    "        print(\"Child\")\n",
    "p = Parent()\n",
    "c = Child()\n",
    "p.introduce()\n",
    "p.print_name()\n",
    "c.introduce()\n",
    "c.print_name()"
   ]
  },
  {
   "cell_type": "code",
   "execution_count": 131,
   "metadata": {},
   "outputs": [],
   "source": [
    "import pdb#python debugger\n",
    "#watch on internet on how to do this task not working by the way given in book"
   ]
  },
  {
   "cell_type": "code",
   "execution_count": 132,
   "metadata": {},
   "outputs": [
    {
     "name": "stdout",
     "output_type": "stream",
     "text": [
      "(1, 2, {'foo': 'bar'})\n"
     ]
    },
    {
     "data": {
      "text/plain": [
       "tuple"
      ]
     },
     "execution_count": 132,
     "metadata": {},
     "output_type": "execute_result"
    }
   ],
   "source": [
    "import ast\n",
    "code = \"\"\"(1, 2, {'foo': 'bar'})\"\"\"\n",
    "object = ast.literal_eval(code)\n",
    "print(object)\n",
    "type(object)"
   ]
  },
  {
   "cell_type": "code",
   "execution_count": 133,
   "metadata": {},
   "outputs": [
    {
     "name": "stdout",
     "output_type": "stream",
     "text": [
      "Hello world!\n",
      "Hello world!\n",
      "Hello world!\n",
      "Hello world!\n",
      "Hello world!\n"
     ]
    }
   ],
   "source": [
    "code = \"\"\"for i in range(5):\\n print('Hello world!')\"\"\"\n",
    "exec(code)"
   ]
  },
  {
   "cell_type": "code",
   "execution_count": 134,
   "metadata": {},
   "outputs": [
    {
     "name": "stdout",
     "output_type": "stream",
     "text": [
      "20\n"
     ]
    }
   ],
   "source": [
    "expression = '5 + 3 * a'\n",
    "a=5\n",
    "result = eval(expression)\n",
    "print(result)"
   ]
  },
  {
   "cell_type": "code",
   "execution_count": 135,
   "metadata": {},
   "outputs": [
    {
     "data": {
      "text/plain": [
       "6"
      ]
     },
     "execution_count": 135,
     "metadata": {},
     "output_type": "execute_result"
    }
   ],
   "source": [
    "code = compile('a * b + c', '<string>', 'eval')\n",
    "code\n",
    "a,b,c=1,2,4\n",
    "eval(code)"
   ]
  },
  {
   "cell_type": "code",
   "execution_count": 136,
   "metadata": {},
   "outputs": [
    {
     "data": {
      "text/plain": [
       "<matplotlib.axes._subplots.AxesSubplot at 0x19e82509808>"
      ]
     },
     "execution_count": 136,
     "metadata": {},
     "output_type": "execute_result"
    },
    {
     "data": {
      "image/png": "[encoded data removed]",
      "text/plain": [
       "<Figure size 432x288 with 1 Axes>"
      ]
     },
     "metadata": {
      "needs_background": "light"
     },
     "output_type": "display_data"
    }
   ],
   "source": [
    "import numpy as np # numpy used to create data from plotting\n",
    "import seaborn as sns # common form of importing seaborn\n",
    "# Generate normally distributed data\n",
    "data = np.random.randn(1000)\n",
    "# Plot a histogram with both a rugplot and kde graph superimposed\n",
    "sns.distplot(data, kde=True, rug=True)\n",
    "sns.set_style('dark')\n",
    "sns.distplot(data, kde=True, rug=True)"
   ]
  },
  {
   "cell_type": "code",
   "execution_count": 137,
   "metadata": {},
   "outputs": [
    {
     "data": {
      "text/plain": [
       "Text(0, 0.5, ' y-axis')"
      ]
     },
     "execution_count": 137,
     "metadata": {},
     "output_type": "execute_result"
    },
    {
     "data": {
      "image/png": "[encoded data removed]",
      "text/plain": [
       "<Figure size 432x288 with 1 Axes>"
      ]
     },
     "metadata": {},
     "output_type": "display_data"
    }
   ],
   "source": [
    "import matplotlib.pyplot as plt\n",
    "# Previously created plot.\n",
    "sns.distplot(data, kde=True, rug=True)\n",
    "# Set the axis labels.\n",
    "plt.xlabel(' x-axis')\n",
    "plt.ylabel(' y-axis')"
   ]
  },
  {
   "cell_type": "code",
   "execution_count": 138,
   "metadata": {},
   "outputs": [
    {
     "data": {
      "image/png": "[encoded data removed]",
      "text/plain": [
       "<Figure size 432x288 with 1 Axes>"
      ]
     },
     "metadata": {},
     "output_type": "display_data"
    }
   ],
   "source": [
    "import matplotlib.pyplot as plt\n",
    "# Generate some data for plotting.\n",
    "x = [0, 1, 2, 3, 4, 5, 6]\n",
    "y = [i**2 for i in x]\n",
    "# Plot the data x, y with some keyword arguments that control the plot style.\n",
    "# Use two different plot commands to plot both points (scatter) and a line (plot).\n",
    "plt.scatter(x, y, c='blue', marker='x', s=100) # Create blue markers of shape \"x\" and size 100\n",
    "plt.plot(x, y, color='red', linewidth=2) # Create a red line with linewidth 2.\n",
    "# Add some text to the axes and a title.\n",
    "plt.xlabel('x data')\n",
    "plt.ylabel('y data')\n",
    "plt.title('An example plot')\n",
    "# Generate the plot and show to the user.\n",
    "plt.show()"
   ]
  },
  {
   "cell_type": "code",
   "execution_count": 139,
   "metadata": {},
   "outputs": [
    {
     "data": {
      "text/plain": [
       "\"from numpy import sin, cos, mgrid, pi, sqrt\\nfrom mayavi import mlab\\nmlab.figure(fgcolor=(0, 0, 0), bgcolor=(1, 1, 1))\\nu, v = mgrid[- 0.035:pi:0.01, - 0.035:pi:0.01]\\nX = 2 / 3. * (cos(u) * cos(2 * v)\\n    + sqrt(2) * sin(u) * cos(v)) * cos(u) / (sqrt(2) -\\n        sin(2 * u) * sin(3 * v))\\nY = 2 / 3. * (cos(u) * sin(2 * v) -\\n    sqrt(2) * sin(u) * sin(v)) * cos(u) / (sqrt(2)\\n    - sin(2 * u) * sin(3 * v))\\nZ = -sqrt(2) * cos(u) * cos(u) / (sqrt(2) - sin(2 * u) * sin(3 * v))\\nS = sin(u)\\nmlab.mesh(X, Y, Z, scalars=S, colormap='YlGnBu', )\\n# Nice view from the front\\nmlab.view(.0, - 5.0, 4)\\nmlab.show()\""
      ]
     },
     "execution_count": 139,
     "metadata": {},
     "output_type": "execute_result"
    }
   ],
   "source": [
    "'''from numpy import sin, cos, mgrid, pi, sqrt\n",
    "from mayavi import mlab\n",
    "mlab.figure(fgcolor=(0, 0, 0), bgcolor=(1, 1, 1))\n",
    "u, v = mgrid[- 0.035:pi:0.01, - 0.035:pi:0.01]\n",
    "X = 2 / 3. * (cos(u) * cos(2 * v)\n",
    "    + sqrt(2) * sin(u) * cos(v)) * cos(u) / (sqrt(2) -\n",
    "        sin(2 * u) * sin(3 * v))\n",
    "Y = 2 / 3. * (cos(u) * sin(2 * v) -\n",
    "    sqrt(2) * sin(u) * sin(v)) * cos(u) / (sqrt(2)\n",
    "    - sin(2 * u) * sin(3 * v))\n",
    "Z = -sqrt(2) * cos(u) * cos(u) / (sqrt(2) - sin(2 * u) * sin(3 * v))\n",
    "S = sin(u)\n",
    "mlab.mesh(X, Y, Z, scalars=S, colormap='YlGnBu', )\n",
    "# Nice view from the front\n",
    "mlab.view(.0, - 5.0, 4)\n",
    "mlab.show()'''"
   ]
  },
  {
   "cell_type": "code",
   "execution_count": 140,
   "metadata": {},
   "outputs": [],
   "source": [
    "#help()"
   ]
  },
  {
   "cell_type": "code",
   "execution_count": 141,
   "metadata": {},
   "outputs": [
    {
     "ename": "TypeError",
     "evalue": "'list' object is not callable",
     "output_type": "error",
     "traceback": [
      "\u001b[1;31m---------------------------------------------------------------------------\u001b[0m",
      "\u001b[1;31mTypeError\u001b[0m                                 Traceback (most recent call last)",
      "\u001b[1;32m<ipython-input-141-191ecda58432>\u001b[0m in \u001b[0;36m<module>\u001b[1;34m\u001b[0m\n\u001b[0;32m      1\u001b[0m \u001b[0ma\u001b[0m \u001b[1;33m=\u001b[0m \u001b[1;33m[\u001b[0m\u001b[1;36m1\u001b[0m\u001b[1;33m,\u001b[0m\u001b[1;36m3\u001b[0m\u001b[1;33m,\u001b[0m\u001b[1;36m5\u001b[0m\u001b[1;33m,\u001b[0m\u001b[1;36m7\u001b[0m\u001b[1;33m,\u001b[0m\u001b[1;36m9\u001b[0m\u001b[1;33m]\u001b[0m\u001b[1;33m\u001b[0m\u001b[1;33m\u001b[0m\u001b[0m\n\u001b[0;32m      2\u001b[0m \u001b[0mb\u001b[0m \u001b[1;33m=\u001b[0m \u001b[1;33m[\u001b[0m\u001b[1;36m2\u001b[0m\u001b[1;33m,\u001b[0m\u001b[1;36m4\u001b[0m\u001b[1;33m,\u001b[0m\u001b[1;36m6\u001b[0m\u001b[1;33m,\u001b[0m\u001b[1;36m8\u001b[0m\u001b[1;33m,\u001b[0m\u001b[1;36m10\u001b[0m\u001b[1;33m]\u001b[0m\u001b[1;33m\u001b[0m\u001b[1;33m\u001b[0m\u001b[0m\n\u001b[1;32m----> 3\u001b[1;33m \u001b[0mzipped\u001b[0m \u001b[1;33m=\u001b[0m \u001b[0mlist\u001b[0m\u001b[1;33m(\u001b[0m\u001b[0mzip\u001b[0m\u001b[1;33m(\u001b[0m\u001b[0ma\u001b[0m\u001b[1;33m,\u001b[0m\u001b[0mb\u001b[0m\u001b[1;33m)\u001b[0m\u001b[1;33m)\u001b[0m\u001b[1;33m\u001b[0m\u001b[1;33m\u001b[0m\u001b[0m\n\u001b[0m\u001b[0;32m      4\u001b[0m \u001b[0mprint\u001b[0m\u001b[1;33m(\u001b[0m\u001b[0mzipped\u001b[0m\u001b[1;33m)\u001b[0m\u001b[1;33m\u001b[0m\u001b[1;33m\u001b[0m\u001b[0m\n\u001b[0;32m      5\u001b[0m \u001b[0mlist\u001b[0m\u001b[1;33m(\u001b[0m\u001b[0mzip\u001b[0m\u001b[1;33m(\u001b[0m\u001b[1;33m*\u001b[0m\u001b[0mzipped\u001b[0m\u001b[1;33m)\u001b[0m\u001b[1;33m)\u001b[0m\u001b[1;33m\u001b[0m\u001b[1;33m\u001b[0m\u001b[0m\n",
      "\u001b[1;31mTypeError\u001b[0m: 'list' object is not callable"
     ]
    }
   ],
   "source": [
    "a = [1,3,5,7,9]\n",
    "b = [2,4,6,8,10]\n",
    "zipped = list(zip(a,b))\n",
    "print(zipped)\n",
    "list(zip(*zipped))"
   ]
  },
  {
   "cell_type": "code",
   "execution_count": 142,
   "metadata": {},
   "outputs": [],
   "source": [
    "import pickle\n",
    "data = {\n",
    "    'a': [1, 2.0, 3, 4+6j],\n",
    "    'b': (\"character string\", b\"byte string\"),\n",
    "    'c': {None, True, False}\n",
    "}\n",
    "with open('data.pickle', 'wb') as f:\n",
    "# Pickle the 'data' dictionary using the highest protocol available.\n",
    "    pickle.dump(data, f, pickle.HIGHEST_PROTOCOL)"
   ]
  },
  {
   "cell_type": "code",
   "execution_count": 143,
   "metadata": {},
   "outputs": [
    {
     "data": {
      "text/plain": [
       "{'a': [1, 2.0, 3, (4+6j)],\n",
       " 'b': ('character string', b'byte string'),\n",
       " 'c': {False, None, True}}"
      ]
     },
     "execution_count": 143,
     "metadata": {},
     "output_type": "execute_result"
    }
   ],
   "source": [
    "import pickle\n",
    "with open('data.pickle', 'rb') as f:\n",
    "# The protocol version used is detected automatically, so we do not\n",
    "# have to specify it.\n",
    "    data = pickle.load(f)\n",
    "data"
   ]
  },
  {
   "cell_type": "code",
   "execution_count": 154,
   "metadata": {},
   "outputs": [
    {
     "name": "stdout",
     "output_type": "stream",
     "text": [
      "Current stack: []\n",
      "Stack empty?: True\n",
      "Pushing integer 1\n",
      "Pushing string \"Told you, I am generic stack!\"\n",
      "Pushing integer 3\n",
      "Current stack: [1, 'Told you, I am generic stack!', 3]\n",
      "Popped item: 3\n",
      "Current stack: [1, 'Told you, I am generic stack!']\n",
      "Stack empty?: False\n"
     ]
    }
   ],
   "source": [
    "#define a stack class\n",
    "class Stack:\n",
    "    def __init__(self):\n",
    "        self.items = []\n",
    "#method to check the stack is empty or not\n",
    "    def isEmpty(self):\n",
    "        return self.items == []\n",
    "#method for pushing an item\n",
    "    def push(self, item):\n",
    "        self.items.append(item)\n",
    "#method for popping an item\n",
    "    def pop(self):\n",
    "        return self.items.pop()\n",
    "#check what item is on top of the stack without removing it\n",
    "    def peek(self):\n",
    "        return self.items[-1]\n",
    "#method to get the size\n",
    "    def size(self):\n",
    "        return len(self.items)\n",
    "#to view the entire stack\n",
    "    def fullStack(self):\n",
    "        return self.items\n",
    "\n",
    "stack = Stack()\n",
    "print('Current stack:', stack.fullStack())\n",
    "print('Stack empty?:', stack.isEmpty())\n",
    "print('Pushing integer 1')\n",
    "stack.push(1)\n",
    "print('Pushing string \"Told you, I am generic stack!\"')\n",
    "stack.push('Told you, I am generic stack!')\n",
    "print('Pushing integer 3')\n",
    "stack.push(3)\n",
    "print('Current stack:', stack.fullStack())\n",
    "print('Popped item:', stack.pop())\n",
    "print('Current stack:', stack.fullStack())\n",
    "print('Stack empty?:', stack.isEmpty())"
   ]
  },
  {
   "cell_type": "code",
   "execution_count": 155,
   "metadata": {},
   "outputs": [],
   "source": [
    "def checkParenth(str):\n",
    "    stack = Stack()\n",
    "    pushChars, popChars = \"<({[\", \">)}]\"\n",
    "    for c in str:\n",
    "        if c in pushChars:\n",
    "            stack.push(c)\n",
    "        elif c in popChars:\n",
    "            if stack.isEmpty():\n",
    "                return False\n",
    "            else:\n",
    "                stackTop = stack.pop()\n",
    "                # Checks to see whether the opening bracket matches the closing one\n",
    "                balancingBracket = pushChars[popChars.index(c)]\n",
    "                if stackTop != balancingBracket:\n",
    "                    return False\n",
    "                else:\n",
    "                    return False\n",
    "    return not stack.isEmpty()"
   ]
  },
  {
   "cell_type": "code",
   "execution_count": 156,
   "metadata": {},
   "outputs": [
    {
     "name": "stdout",
     "output_type": "stream",
     "text": [
      "  3           0 LOAD_FAST                0 (n)\n",
      "              2 LOAD_CONST               1 (2)\n",
      "              4 COMPARE_OP               1 (<=)\n",
      "              6 POP_JUMP_IF_FALSE       12\n",
      "              8 LOAD_CONST               2 (1)\n",
      "             10 RETURN_VALUE\n",
      "\n",
      "  4     >>   12 LOAD_GLOBAL              0 (fib)\n",
      "             14 LOAD_FAST                0 (n)\n",
      "             16 LOAD_CONST               2 (1)\n",
      "             18 BINARY_SUBTRACT\n",
      "             20 CALL_FUNCTION            1\n",
      "             22 LOAD_GLOBAL              0 (fib)\n",
      "             24 LOAD_FAST                0 (n)\n",
      "             26 LOAD_CONST               1 (2)\n",
      "             28 BINARY_SUBTRACT\n",
      "             30 CALL_FUNCTION            1\n",
      "             32 BINARY_ADD\n",
      "             34 RETURN_VALUE\n"
     ]
    }
   ],
   "source": [
    "import dis\n",
    "def fib(n):\n",
    "    if n <= 2: return 1\n",
    "    return fib(n-1) + fib(n-2)\n",
    "# Display the disassembled bytecode of the function.\n",
    "dis.dis(fib)"
   ]
  },
  {
   "cell_type": "code",
   "execution_count": 158,
   "metadata": {},
   "outputs": [],
   "source": [
    "class Fruit:\n",
    "    def check_ripeness(self):\n",
    "        raise NotImplementedError(\"check_ripeness method not implemented!\")\n",
    "class Apple(Fruit):\n",
    "    pass\n",
    "a = Apple()\n",
    "#a.check_ripeness() # "
   ]
  },
  {
   "cell_type": "code",
   "execution_count": 160,
   "metadata": {},
   "outputs": [
    {
     "name": "stdout",
     "output_type": "stream",
     "text": [
      "Simon bought 2 candy for 8 dollar\n"
     ]
    }
   ],
   "source": [
    "from string import Template\n",
    "data = dict(item = \"candy\", price = 8, qty = 2)\n",
    "# define the template\n",
    "t = Template(\"Simon bought $qty $item for $price dollar\")\n",
    "print(t.substitute(data))"
   ]
  },
  {
   "cell_type": "code",
   "execution_count": 162,
   "metadata": {},
   "outputs": [
    {
     "name": "stdout",
     "output_type": "stream",
     "text": [
      "My name is Ricardo and I have the id: 1\n"
     ]
    }
   ],
   "source": [
    "from string import Template\n",
    "class MyOtherTemplate(Template):\n",
    "    delimiter = \"#\"\n",
    "data = dict(id = 1, name = \"Ricardo\")\n",
    "t = MyOtherTemplate(\"My name is #name and I have the id: #id\")\n",
    "print(t.substitute(data))"
   ]
  },
  {
   "cell_type": "code",
   "execution_count": 3,
   "metadata": {},
   "outputs": [
    {
     "data": {
      "image/png": "[encoded data removed]",
      "text/plain": [
       "<PIL.JpegImagePlugin.JpegImageFile image mode=RGB size=520x133 at 0x1D0B2585708>"
      ]
     },
     "execution_count": 3,
     "metadata": {},
     "output_type": "execute_result"
    }
   ],
   "source": [
    "from PIL import Image\n",
    "im = Image.open(\"iic.jpg\")\n",
    "im"
   ]
  },
  {
   "cell_type": "code",
   "execution_count": 6,
   "metadata": {},
   "outputs": [],
   "source": [
    "import turtle\n",
    "ninja = turtle.Turtle()\n",
    "ninja.speed(13)SS\n",
    "for i in range(180):\n",
    "    ninja.forward(100)\n",
    "    ninja.right(30)\n",
    "    ninja.forward(20)\n",
    "    ninja.left(60)\n",
    "    ninja.forward(50)\n",
    "    ninja.right(30)\n",
    "    ninja.penup()\n",
    "    ninja.setposition(0, 0)\n",
    "    ninja.pendown()\n",
    "    ninja.right(2)\n",
    "turtle.done()"
   ]
  },
  {
   "cell_type": "code",
   "execution_count": 16,
   "metadata": {},
   "outputs": [
    {
     "name": "stdout",
     "output_type": "stream",
     "text": [
      "{'sha224', 'shake_128', 'md5', 'sha256', 'shake_256', 'sha3_384', 'sha3_256', 'sha3_224', 'sha384', 'sha3_512', 'sha512', 'blake2b', 'sha1', 'blake2s'}\n",
      "{'sha224', 'shake_128', 'md5', 'sha256', 'shake_256', 'sha3_384', 'sha3_256', 'sha3_224', 'sha384', 'sha3_512', 'sha512', 'blake2b', 'sha1', 'blake2s'}\n"
     ]
    }
   ],
   "source": [
    "import hashlib\n",
    "print(hashlib.algorithms_available)\n",
    "print(hashlib.algorithms_guaranteed)"
   ]
  },
  {
   "cell_type": "code",
   "execution_count": 26,
   "metadata": {},
   "outputs": [
    {
     "name": "stdout",
     "output_type": "stream",
     "text": [
      "The name of student is  ram his age is  12 and he read in class  6\n"
     ]
    }
   ],
   "source": [
    "def function_1(*args):\n",
    "    if (len(args)==3):\n",
    "        print(\"The name of student is \",args[0],\"his age is \",args[1],\"and he read in class \",args[2])\n",
    "        \n",
    "    elif (len(args)==2):\n",
    "        print(\"The name of student is \",args[0],\"his age is \",args[1])\n",
    "        \n",
    "    else:\n",
    "        print(\"The name of student is \",args[0])\n",
    "        \n",
    "\n",
    "list_=[\"ram\",12,6]\n",
    "function_1(*list_)\n",
    "        "
   ]
  },
  {
   "cell_type": "code",
   "execution_count": 28,
   "metadata": {},
   "outputs": [
    {
     "name": "stdout",
     "output_type": "stream",
     "text": [
      "Hemraj 100\n",
      "Manish 80\n",
      "Sujan 85\n",
      "Sujata 75\n",
      "Ganesh 70\n"
     ]
    }
   ],
   "source": [
    "def printmarks(**kwargs):\n",
    "    for key, values in kwargs.items():\n",
    "        print(key,values)\n",
    "marklist = {\"Hemraj\":100, \"Manish\":80, \"Sujan\":85, \"Sujata\":75, \"Ganesh\":70}\n",
    "printmarks(**marklist)"
   ]
  },
  {
   "cell_type": "code",
   "execution_count": 33,
   "metadata": {},
   "outputs": [
    {
     "name": "stdout",
     "output_type": "stream",
     "text": [
      "Hi this is normal\n",
      "ram\n",
      "12\n",
      "6\n",
      "Hemraj 100\n",
      "Manish 80\n",
      "Sujan 85\n",
      "Sujata 75\n",
      "Ganesh 70\n"
     ]
    }
   ],
   "source": [
    "def master(normal,*args,**kwargs):\n",
    "    print(normal)\n",
    "    for i in args:\n",
    "        print(i)\n",
    "    for key, values in kwargs.items():\n",
    "        print(key,values)\n",
    "        \n",
    "list_=[\"ram\",12,6]\n",
    "marklist = {\"Hemraj\":100, \"Manish\":80, \"Sujan\":85, \"Sujata\":75, \"Ganesh\":70}\n",
    "master(\"Hi this is normal\",*list_,**marklist)"
   ]
  },
  {
   "cell_type": "code",
   "execution_count": 76,
   "metadata": {},
   "outputs": [
    {
     "name": "stdout",
     "output_type": "stream",
     "text": [
      "[2, 4, 6, 8, 10, 12, 14, 16, 18, 20, 22, 24, 26, 28, 44, 89]\n",
      "Wall time: 0 ns\n"
     ]
    }
   ],
   "source": [
    "%%time\n",
    "import bisect\n",
    "import numpy as np\n",
    "number = 89\n",
    "b=[2,4,6,8,10,22,24,12,14,26,16,18,28,20,44]\n",
    "a=np.sort(b)\n",
    "c=list(a)\n",
    "#print(bisect.bisect(c,number))\n",
    "bisect.insort(c,number)\n",
    "print(c)"
   ]
  },
  {
   "cell_type": "code",
   "execution_count": 87,
   "metadata": {},
   "outputs": [
    {
     "name": "stdout",
     "output_type": "stream",
     "text": [
      "Wall time: 0 ns\n"
     ]
    }
   ],
   "source": [
    "%%time\n",
    "#for i in range (10000):\n",
    " #   print(i)z"
   ]
  },
  {
   "cell_type": "code",
   "execution_count": 89,
   "metadata": {},
   "outputs": [
    {
     "data": {
      "text/plain": [
       "28"
      ]
     },
     "execution_count": 89,
     "metadata": {},
     "output_type": "execute_result"
    }
   ],
   "source": [
    "add =lambda x,y:x*y\n",
    "add(4,7)"
   ]
  },
  {
   "cell_type": "code",
   "execution_count": 92,
   "metadata": {},
   "outputs": [
    {
     "name": "stdout",
     "output_type": "stream",
     "text": [
      "6\n",
      "12\n",
      "18\n",
      "24\n",
      "44\n"
     ]
    }
   ],
   "source": [
    "item=[1,2,4,5,6,7,8,9]\n",
    "for i,item in enumerate(a):\n",
    "    if (i+1)%3==0:\n",
    "        print(item)"
   ]
  },
  {
   "cell_type": "code",
   "execution_count": 107,
   "metadata": {},
   "outputs": [
    {
     "name": "stdout",
     "output_type": "stream",
     "text": [
      "The computer that is used by Ram is MAC.\n",
      "The computer that is used by Shyam is Respberry Pi.\n",
      "The computer that is used by Hari is Window.\n",
      "The computer that is used by Gita is Android.\n",
      "Computer that is used by Ram is MAC.\n",
      "Computer that is used by Shyam is Respberry Pi.\n",
      "Computer that is used by Hari is Window.\n",
      "Computer that is used by Gita is Android.\n"
     ]
    }
   ],
   "source": [
    "user=['Ram','Shyam','Hari','Gita']\n",
    "computer =['MAC','Respberry Pi','Window','Android']\n",
    "for i in range(0,len(user)):\n",
    "    print(\"The computer that is used by\",user[i],\"is\",computer[i]+\".\")\n",
    "    \n",
    "for i in range(0,len(user)):\n",
    "    template=\"Computer that is used by {0} is {1}.\"\n",
    "    print(template.format(user[i],computer[i]))"
   ]
  },
  {
   "cell_type": "code",
   "execution_count": 109,
   "metadata": {},
   "outputs": [
    {
     "name": "stdout",
     "output_type": "stream",
     "text": [
      "Chalk and Duster and Board and Marker\n"
     ]
    }
   ],
   "source": [
    "list_=['Chalk','Duster','Board','Marker']\n",
    "for item in list_:\n",
    "    if item is not 'Marker':\n",
    "        print(item,\"and \",end=\"\")\n",
    "    else:\n",
    "        print(item)"
   ]
  },
  {
   "cell_type": "code",
   "execution_count": 111,
   "metadata": {},
   "outputs": [
    {
     "name": "stdout",
     "output_type": "stream",
     "text": [
      "Chalk and Duster and Board and Marker\n"
     ]
    }
   ],
   "source": [
    "list_sample=['Chalk','Duster','Board','Marker']\n",
    "print(\" and \".join(list_sample))"
   ]
  },
  {
   "cell_type": "code",
   "execution_count": 112,
   "metadata": {},
   "outputs": [
    {
     "name": "stdout",
     "output_type": "stream",
     "text": [
      "[1, 4, 9, 16, 25, 36, 49, 64, 81]\n"
     ]
    }
   ],
   "source": [
    "h1=[1,2,3,4,5,6,7,8,9]\n",
    "sq=[]\n",
    "for item in h1:\n",
    "    sq.append(item**2)\n",
    "print(sq)"
   ]
  },
  {
   "cell_type": "code",
   "execution_count": 114,
   "metadata": {},
   "outputs": [
    {
     "name": "stdout",
     "output_type": "stream",
     "text": [
      "[1, 4, 9, 16, 25, 36, 49, 64, 81]\n"
     ]
    }
   ],
   "source": [
    "def square(n):\n",
    "    return n**2\n",
    "h=[1,2,3,4,5,6,7,8,9]\n",
    "sq=list(map(square,h))\n",
    "print(sq)"
   ]
  },
  {
   "cell_type": "code",
   "execution_count": 115,
   "metadata": {},
   "outputs": [
    {
     "name": "stdout",
     "output_type": "stream",
     "text": [
      "[3, 4, 5, 2.5, 2.01, 6, 4.5, 7, 8, 9, 10]\n"
     ]
    }
   ],
   "source": [
    "def greater_than_2(n):\n",
    "    if n>2:\n",
    "        return True\n",
    "    else:\n",
    "        return False\n",
    "h1=[-51,2,3,-4,4,5,2.5,1.99,2.01,6,4.5,7,8,9,10]\n",
    "greater_than_2= list(filter(greater_than_2,h1))\n",
    "print(greater_than_2)"
   ]
  },
  {
   "cell_type": "code",
   "execution_count": 119,
   "metadata": {},
   "outputs": [
    {
     "name": "stdout",
     "output_type": "stream",
     "text": [
      "45\n"
     ]
    }
   ],
   "source": [
    "from functools import reduce\n",
    "def sum_num(a,b):\n",
    "    return a+b\n",
    "list_=[1,2,3,4,5,6,7,8,9]\n",
    "lis=reduce(sum_num,list_)\n",
    "print(lis)"
   ]
  },
  {
   "cell_type": "code",
   "execution_count": 8,
   "metadata": {},
   "outputs": [
    {
     "name": "stdout",
     "output_type": "stream",
     "text": [
      "Without using list comprehensions: [3, 6, 9, 12, 15, 45, 45, 78, 21, 213, 69, 15]\n",
      "By using list comprehensions:  [3, 6, 9, 12, 15, 45, 45, 78, 21, 213, 69, 15]\n"
     ]
    }
   ],
   "source": [
    "list=[1,2,3,6,4,7,8,9,12,15,45,64,59,45,78,65,21,46,37,95,452,213,34,64,78.89,47,58,69,15,16,23,16,19,17,11]\n",
    "divide_by_3=[]\n",
    "for item in list:\n",
    "    if item % 3 ==0:\n",
    "        divide_by_3.append(item)\n",
    "        \n",
    "print(\"Without using list comprehensions:\",divide_by_3)\n",
    "print(\"By using list comprehensions:\",[item for item in list if item % 3 ==0])"
   ]
  },
  {
   "cell_type": "code",
   "execution_count": 9,
   "metadata": {},
   "outputs": [
    {
     "data": {
      "text/plain": [
       "{1, 2, 3, 4, 5, 6, 7, 8, 9}"
      ]
     },
     "execution_count": 9,
     "metadata": {},
     "output_type": "execute_result"
    }
   ],
   "source": [
    "list_=[1,2,3,4,5,6,7,8,9]\n",
    "tuple(list_)\n",
    "set(list_)\n",
    "#str(list_)"
   ]
  },
  {
   "cell_type": "code",
   "execution_count": 10,
   "metadata": {},
   "outputs": [
    {
     "name": "stdout",
     "output_type": "stream",
     "text": [
      "{'a': 60, 'b': 49}\n"
     ]
    }
   ],
   "source": [
    "dict1={'a':45,'b':49,'A':15}\n",
    "print({k.lower():dict1.get(k.lower(),0)+dict1.get(k.upper(),0) for k in dict1.keys()})"
   ]
  },
  {
   "cell_type": "code",
   "execution_count": 16,
   "metadata": {},
   "outputs": [
    {
     "name": "stdout",
     "output_type": "stream",
     "text": [
      "{64, 1, 4, 36, 9, 16, 81, 49, 25}\n"
     ]
    }
   ],
   "source": [
    "squared = {x**2 for x in [1,2,3,4,4,4,5,4,5,5,5,6,9,5,6,7,7,8,8,5,9,9,1]}\n",
    "print(squared)"
   ]
  },
  {
   "cell_type": "code",
   "execution_count": 17,
   "metadata": {},
   "outputs": [
    {
     "name": "stdout",
     "output_type": "stream",
     "text": [
      "0\n",
      "3\n",
      "6\n",
      "9\n",
      "12\n",
      "15\n",
      "18\n",
      "21\n",
      "24\n",
      "27\n",
      "30\n",
      "33\n",
      "36\n",
      "39\n",
      "42\n",
      "45\n",
      "48\n",
      "51\n",
      "54\n",
      "57\n",
      "60\n",
      "63\n",
      "66\n",
      "69\n",
      "72\n",
      "75\n",
      "78\n",
      "81\n",
      "84\n"
     ]
    }
   ],
   "source": [
    "gen = (i for i in range(85) if i % 3 == 0)\n",
    "for item in gen:\n",
    "    print(item)"
   ]
  },
  {
   "cell_type": "code",
   "execution_count": null,
   "metadata": {},
   "outputs": [],
   "source": []
  }
 ],
 "metadata": {
  "kernelspec": {
   "display_name": "Python 3",
   "language": "python",
   "name": "python3"
  },
  "language_info": {
   "codemirror_mode": {
    "name": "ipython",
    "version": 3
   },
   "file_extension": ".py",
   "mimetype": "text/x-python",
   "name": "python",
   "nbconvert_exporter": "python",
   "pygments_lexer": "ipython3",
   "version": "3.7.7"
  }
 },
 "nbformat": 4,
 "nbformat_minor": 4
}
