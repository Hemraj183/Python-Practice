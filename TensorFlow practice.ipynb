{
 "cells": [
  {
   "cell_type": "code",
   "execution_count": 1,
   "metadata": {},
   "outputs": [],
   "source": [
    "import tensorflow as tf\n",
    "import numpy as np"
   ]
  },
  {
   "cell_type": "code",
   "execution_count": 2,
   "metadata": {},
   "outputs": [],
   "source": [
    "m1=[ [1.0,5],[4.5,10] ]\n",
    "\n",
    "m2=np.array([ [1.0,5],[4.5,10] ],dtype=np.float32)\n",
    "\n",
    "m3=tf.constant([ [1.0,5],[4.5,10] ])"
   ]
  },
  {
   "cell_type": "code",
   "execution_count": 3,
   "metadata": {},
   "outputs": [
    {
     "name": "stdout",
     "output_type": "stream",
     "text": [
      "[[1.0, 5], [4.5, 10]]\n",
      "<class 'list'>\n",
      "[[ 1.   5. ]\n",
      " [ 4.5 10. ]]\n",
      "<class 'numpy.ndarray'>\n",
      "tf.Tensor(\n",
      "[[ 1.   5. ]\n",
      " [ 4.5 10. ]], shape=(2, 2), dtype=float32)\n",
      "<class 'tensorflow.python.framework.ops.EagerTensor'>\n"
     ]
    }
   ],
   "source": [
    "print(m1)\n",
    "print(type(m1))\n",
    "\n",
    "print(m2)\n",
    "print(type(m2))\n",
    "\n",
    "print(m3)\n",
    "print(type(m3))"
   ]
  },
  {
   "cell_type": "code",
   "execution_count": 4,
   "metadata": {},
   "outputs": [
    {
     "name": "stdout",
     "output_type": "stream",
     "text": [
      "tf.Tensor([[-1 -2]], shape=(1, 2), dtype=int32)\n"
     ]
    }
   ],
   "source": [
    "import tensorflow as tf\n",
    "x = tf.constant([[1, 2]]) \n",
    "neg_x = tf.negative(x) \n",
    "print(neg_x) "
   ]
  },
  {
   "cell_type": "code",
   "execution_count": null,
   "metadata": {},
   "outputs": [],
   "source": []
  },
  {
   "cell_type": "code",
   "execution_count": null,
   "metadata": {},
   "outputs": [],
   "source": []
  }
 ],
 "metadata": {
  "kernelspec": {
   "display_name": "Python 3",
   "language": "python",
   "name": "python3"
  },
  "language_info": {
   "codemirror_mode": {
    "name": "ipython",
    "version": 3
   },
   "file_extension": ".py",
   "mimetype": "text/x-python",
   "name": "python",
   "nbconvert_exporter": "python",
   "pygments_lexer": "ipython3",
   "version": "3.7.7"
  }
 },
 "nbformat": 4,
 "nbformat_minor": 4
}
